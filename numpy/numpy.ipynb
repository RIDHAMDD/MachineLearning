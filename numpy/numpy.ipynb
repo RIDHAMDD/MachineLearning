{
 "cells": [
  {
   "cell_type": "code",
   "execution_count": 2,
   "id": "46666bdc-8805-45a8-a6f0-03e817f4dcc4",
   "metadata": {},
   "outputs": [],
   "source": [
    "import pandas as pd"
   ]
  },
  {
   "cell_type": "code",
   "execution_count": 3,
   "id": "d18c1a55-17f8-4b63-b798-2194b6c94496",
   "metadata": {},
   "outputs": [],
   "source": [
    "import matplotlib.pyplot as plt"
   ]
  },
  {
   "cell_type": "code",
   "execution_count": 4,
   "id": "a1803a2e-8972-41e3-a133-467f7356305f",
   "metadata": {},
   "outputs": [],
   "source": [
    "import numpy as np"
   ]
  },
  {
   "cell_type": "markdown",
   "id": "fb72814e-2193-492f-8061-ecf3e4a94b5e",
   "metadata": {},
   "source": [
    "# Question 1"
   ]
  },
  {
   "cell_type": "code",
   "execution_count": 5,
   "id": "39a9dd05-bde8-4d8d-9c10-91993420d609",
   "metadata": {},
   "outputs": [],
   "source": [
    "a = np.array([[2, 5, 0, 8], [1, 4, 2, 6],[7, 8, 9, 3],[1, 5, 7, 8]]) "
   ]
  },
  {
   "cell_type": "code",
   "execution_count": 6,
   "id": "f0425e93-41ea-462b-82df-a74bcb9161b3",
   "metadata": {},
   "outputs": [
    {
     "data": {
      "text/plain": [
       "179.0"
      ]
     },
     "execution_count": 6,
     "metadata": {},
     "output_type": "execute_result"
    }
   ],
   "source": [
    "#determinent of a matrix A\n",
    "np.linalg.det(a)"
   ]
  },
  {
   "cell_type": "code",
   "execution_count": 7,
   "id": "da8336a2-23a8-4a44-8efe-a7797b2ad4a6",
   "metadata": {},
   "outputs": [],
   "source": [
    "b = np.array([4,2,1,1]) "
   ]
  },
  {
   "cell_type": "code",
   "execution_count": 8,
   "id": "903db11f-37de-42c7-8470-6871a81c1c47",
   "metadata": {},
   "outputs": [],
   "source": [
    "#if determinent of a matrix is possible then its inverse is also possible as det(A^-1) = 1/det(A)"
   ]
  },
  {
   "cell_type": "code",
   "execution_count": 9,
   "id": "5d9c5e1e-af75-4275-a6cd-2da7df95a388",
   "metadata": {},
   "outputs": [
    {
     "data": {
      "text/plain": [
       "array([[ 0.96089385, -1.91620112,  0.07821229,  0.44692737],\n",
       "       [-1.03351955,  2.3575419 ,  0.06703911, -0.75977654],\n",
       "       [-0.00558659, -0.27374302,  0.01117318,  0.20670391],\n",
       "       [ 0.53072626, -0.99441341, -0.06145251,  0.36312849]])"
      ]
     },
     "execution_count": 9,
     "metadata": {},
     "output_type": "execute_result"
    }
   ],
   "source": [
    "#inverse of a matrix\n",
    "np.linalg.inv(a)"
   ]
  },
  {
   "cell_type": "code",
   "execution_count": 10,
   "id": "988da53c-c858-4986-9bcf-3897b058036d",
   "metadata": {},
   "outputs": [
    {
     "data": {
      "text/plain": [
       "array([ 0.53631285, -0.11173184, -0.35195531,  0.43575419])"
      ]
     },
     "execution_count": 10,
     "metadata": {},
     "output_type": "execute_result"
    }
   ],
   "source": [
    "np.linalg.tensorsolve(a,b) #solves Ax = b"
   ]
  },
  {
   "cell_type": "markdown",
   "id": "cde0e147-f041-4c08-9f8e-79ba6bf93879",
   "metadata": {},
   "source": [
    "# Question 2"
   ]
  },
  {
   "cell_type": "code",
   "execution_count": 11,
   "id": "cc716163-3ad5-4824-996f-c838ec77d366",
   "metadata": {},
   "outputs": [
    {
     "data": {
      "image/png": "[encoded data removed]",
      "text/plain": [
       "<Figure size 432x288 with 1 Axes>"
      ]
     },
     "metadata": {
      "needs_background": "light"
     },
     "output_type": "display_data"
    }
   ],
   "source": [
    "x = np.linspace(-15, 15)\n",
    "plt.plot(x, np.arctan(x**2))\n",
    "plt.show()"
   ]
  },
  {
   "cell_type": "code",
   "execution_count": 12,
   "id": "85ff8957-b533-43d7-9c7c-ccaf5412acf3",
   "metadata": {},
   "outputs": [],
   "source": [
    "xvals = np.linspace(-10,10,50)"
   ]
  },
  {
   "cell_type": "code",
   "execution_count": 13,
   "id": "0e19c976-97d0-474d-b697-a27c87edfb3d",
   "metadata": {},
   "outputs": [],
   "source": [
    "def f(x):\n",
    " return np.log(x)/x**2"
   ]
  },
  {
   "cell_type": "code",
   "execution_count": 14,
   "id": "d71735c9-884f-487b-ac45-f46a60b5d623",
   "metadata": {},
   "outputs": [
    {
     "name": "stderr",
     "output_type": "stream",
     "text": [
      "/tmp/ipykernel_593717/1006831901.py:2: RuntimeWarning: invalid value encountered in log\n",
      "  return np.log(x)/x**2\n"
     ]
    },
    {
     "data": {
      "text/plain": [
       "array([            nan,             nan,             nan,             nan,\n",
       "                   nan,             nan,             nan,             nan,\n",
       "                   nan,             nan,             nan,             nan,\n",
       "                   nan,             nan,             nan,             nan,\n",
       "                   nan,             nan,             nan,             nan,\n",
       "                   nan,             nan,             nan,             nan,\n",
       "                   nan, -3.81575373e+01, -1.30887291e+00,  1.94026801e-02,\n",
       "        1.74770723e-01,  1.80220060e-01,  1.60462217e-01,  1.38620691e-01,\n",
       "        1.19389991e-01,  1.03349187e-01,  9.01341901e-02,  7.92323049e-02,\n",
       "        7.01808674e-02,  6.26042740e-02,  5.62078270e-02,  5.07624680e-02,\n",
       "        4.60900057e-02,  4.20510645e-02,  3.85358120e-02,  3.54569772e-02,\n",
       "        3.27446271e-02,  3.03422534e-02,  2.82038277e-02,  2.62915699e-02,\n",
       "        2.45742447e-02,  2.30258509e-02])"
      ]
     },
     "execution_count": 14,
     "metadata": {},
     "output_type": "execute_result"
    }
   ],
   "source": [
    "f(xvals)"
   ]
  },
  {
   "cell_type": "code",
   "execution_count": 15,
   "id": "bdabec73-7d57-47dd-814b-ec21ee61f424",
   "metadata": {},
   "outputs": [
    {
     "name": "stderr",
     "output_type": "stream",
     "text": [
      "/tmp/ipykernel_593717/1006831901.py:2: RuntimeWarning: invalid value encountered in log\n",
      "  return np.log(x)/x**2\n"
     ]
    },
    {
     "data": {
      "text/plain": [
       "[<matplotlib.lines.Line2D at 0x7f93e9a26050>]"
      ]
     },
     "execution_count": 15,
     "metadata": {},
     "output_type": "execute_result"
    },
    {
     "data": {
      "image/png": "[encoded data removed]",
      "text/plain": [
       "<Figure size 432x288 with 1 Axes>"
      ]
     },
     "metadata": {
      "needs_background": "light"
     },
     "output_type": "display_data"
    }
   ],
   "source": [
    "plt.plot(xvals,f(xvals))"
   ]
  },
  {
   "cell_type": "markdown",
   "id": "da5d90df-c4d1-4664-99c6-231b4a16c0c7",
   "metadata": {},
   "source": [
    "# Question 3"
   ]
  },
  {
   "cell_type": "code",
   "execution_count": 16,
   "id": "81ab4944-2bf9-49bc-966c-2bd46843211f",
   "metadata": {},
   "outputs": [
    {
     "ename": "FileNotFoundError",
     "evalue": "[Errno 2] No such file or directory: 'jan8data.npy'",
     "output_type": "error",
     "traceback": [
      "\u001b[0;31m---------------------------------------------------------------------------\u001b[0m",
      "\u001b[0;31mFileNotFoundError\u001b[0m                         Traceback (most recent call last)",
      "Cell \u001b[0;32mIn [16], line 1\u001b[0m\n\u001b[0;32m----> 1\u001b[0m mydata \u001b[38;5;241m=\u001b[39m \u001b[43mnp\u001b[49m\u001b[38;5;241;43m.\u001b[39;49m\u001b[43mload\u001b[49m\u001b[43m(\u001b[49m\u001b[38;5;124;43m'\u001b[39;49m\u001b[38;5;124;43mjan8data.npy\u001b[39;49m\u001b[38;5;124;43m'\u001b[39;49m\u001b[43m)\u001b[49m\n",
      "File \u001b[0;32m/usr/lib64/python3.11/site-packages/numpy/lib/npyio.py:405\u001b[0m, in \u001b[0;36mload\u001b[0;34m(file, mmap_mode, allow_pickle, fix_imports, encoding, max_header_size)\u001b[0m\n\u001b[1;32m    403\u001b[0m     own_fid \u001b[38;5;241m=\u001b[39m \u001b[38;5;28;01mFalse\u001b[39;00m\n\u001b[1;32m    404\u001b[0m \u001b[38;5;28;01melse\u001b[39;00m:\n\u001b[0;32m--> 405\u001b[0m     fid \u001b[38;5;241m=\u001b[39m stack\u001b[38;5;241m.\u001b[39menter_context(\u001b[38;5;28;43mopen\u001b[39;49m\u001b[43m(\u001b[49m\u001b[43mos_fspath\u001b[49m\u001b[43m(\u001b[49m\u001b[43mfile\u001b[49m\u001b[43m)\u001b[49m\u001b[43m,\u001b[49m\u001b[43m \u001b[49m\u001b[38;5;124;43m\"\u001b[39;49m\u001b[38;5;124;43mrb\u001b[39;49m\u001b[38;5;124;43m\"\u001b[39;49m\u001b[43m)\u001b[49m)\n\u001b[1;32m    406\u001b[0m     own_fid \u001b[38;5;241m=\u001b[39m \u001b[38;5;28;01mTrue\u001b[39;00m\n\u001b[1;32m    408\u001b[0m \u001b[38;5;66;03m# Code to distinguish from NumPy binary files and pickles.\u001b[39;00m\n",
      "\u001b[0;31mFileNotFoundError\u001b[0m: [Errno 2] No such file or directory: 'jan8data.npy'"
     ]
    }
   ],
   "source": [
    "mydata = np.load('jan8data.npy')"
   ]
  },
  {
   "cell_type": "code",
   "execution_count": null,
   "id": "58b57b26-ace1-4830-a93f-1888ba01681c",
   "metadata": {},
   "outputs": [],
   "source": [
    "#density Histogram\n",
    "plt.hist(mydata,density = True)"
   ]
  },
  {
   "cell_type": "code",
   "execution_count": null,
   "id": "d105c092-a48d-4a4a-9761-c72027c7bff5",
   "metadata": {},
   "outputs": [],
   "source": [
    "np.mean(mydata) # mean"
   ]
  },
  {
   "cell_type": "code",
   "execution_count": null,
   "id": "09a705f5-4e77-417f-a58c-d48a60e4c49d",
   "metadata": {},
   "outputs": [],
   "source": [
    "np.std(mydata) #standard deviation"
   ]
  },
  {
   "cell_type": "code",
   "execution_count": null,
   "id": "51df98f3-1665-488a-b36a-65a3eba3e066",
   "metadata": {},
   "outputs": [],
   "source": [
    "import math"
   ]
  },
  {
   "cell_type": "code",
   "execution_count": null,
   "id": "61cceebc-b6ef-4e3d-a9ea-2ac71b9c7db8",
   "metadata": {},
   "outputs": [],
   "source": [
    "xval = np.linspace(10,20,40)"
   ]
  },
  {
   "cell_type": "code",
   "execution_count": null,
   "id": "6d2850d2-44a7-4223-9599-cffe11cdcadf",
   "metadata": {},
   "outputs": [],
   "source": [
    "def g(x, mydata):\n",
    "    return (1 / (np.std(mydata) * (math.sqrt(2 * np.pi)))) * np.exp(-0.5 * ((x - np.mean(mydata)) / np.std(mydata))**2)\n"
   ]
  },
  {
   "cell_type": "code",
   "execution_count": null,
   "id": "e6a1f3ed-3ba4-473e-af70-b64885b76738",
   "metadata": {},
   "outputs": [],
   "source": [
    "g(xval, mydata)"
   ]
  },
  {
   "cell_type": "code",
   "execution_count": null,
   "id": "553ad7da-1d96-4fd4-a84c-f4153b24c6e3",
   "metadata": {},
   "outputs": [],
   "source": [
    "plt.plot(xval,g(xval, mydata))\n",
    "plt.hist(mydata,density = True)\n",
    "plt.show() #graph and histogram"
   ]
  },
  {
   "cell_type": "markdown",
   "id": "48825225-4c5a-4ce5-82c8-9f67157e4c97",
   "metadata": {},
   "source": [
    "# Question 4"
   ]
  },
  {
   "cell_type": "code",
   "execution_count": null,
   "id": "b39a1dca-87c1-4689-9cbb-5a1a1f8ec58a",
   "metadata": {},
   "outputs": [],
   "source": [
    "def h(x):\n",
    "    return np.sin(x) + x - 1"
   ]
  },
  {
   "cell_type": "code",
   "execution_count": null,
   "id": "1142bea1-7cb5-4a7e-8b61-c930eaa9ec19",
   "metadata": {},
   "outputs": [],
   "source": [
    "xval1 = np.linspace(-10,10,40)"
   ]
  },
  {
   "cell_type": "code",
   "execution_count": null,
   "id": "2e2db5e6-3c56-4fe9-ae3b-32fc5777cd84",
   "metadata": {},
   "outputs": [],
   "source": [
    "h(7.5)"
   ]
  },
  {
   "cell_type": "code",
   "execution_count": null,
   "id": "841e4954-1df6-456c-a425-a0e59a59f63d",
   "metadata": {},
   "outputs": [],
   "source": [
    "plt.plot([-10,10], [0,0], linewidth=1, color='green') #x axis for refrence\n",
    "plt.plot(xval1, h(xval1))\n",
    "plt.plot(7.5, 7.437999976774739, marker=\"o\", markersize=3, color=\"black\") #x0 plotted on the graph\n",
    "plt.show()"
   ]
  },
  {
   "cell_type": "code",
   "execution_count": null,
   "id": "126ed915-88d3-48f1-8bd0-24a386b90f1e",
   "metadata": {},
   "outputs": [],
   "source": [
    "def mynewton(x0,n):\n",
    "    print(x0)\n",
    "    for _ in range(n):\n",
    "        x0 = x0 - ((np.sin(x0) + x0 - 1)/(np.cos(x0) + 1))\n",
    "        print(x0)\n",
    "    return x0"
   ]
  },
  {
   "cell_type": "code",
   "execution_count": null,
   "id": "7ceb3f48-a2fa-4cf1-964c-d1f103f26302",
   "metadata": {},
   "outputs": [],
   "source": [
    "mynewton(7.6,10) "
   ]
  },
  {
   "cell_type": "code",
   "execution_count": null,
   "id": "fe043781-62df-4aca-9165-22513cf4b570",
   "metadata": {},
   "outputs": [],
   "source": [
    "h(0.5109734293885692) #proof that mynewton function works"
   ]
  },
  {
   "cell_type": "code",
   "execution_count": null,
   "id": "e6593306-c3c4-412f-a0ae-672459bf90d3",
   "metadata": {},
   "outputs": [],
   "source": [
    "plt.plot([-10,10], [0,0], linewidth=1, color='green')\n",
    "plt.plot(xval1, h(xval1))\n",
    "plt.plot(0.5109734293885692, 0, marker=\"o\", markersize=3, color=\"red\") #the point given by mynewton function"
   ]
  },
  {
   "cell_type": "markdown",
   "id": "868b7a8f-59f0-472d-ac47-5bdb66444eb0",
   "metadata": {},
   "source": [
    "# Question 5"
   ]
  },
  {
   "cell_type": "code",
   "execution_count": 22,
   "id": "dbae4ec3-cc7b-4939-9c47-f15636fcff2a",
   "metadata": {},
   "outputs": [
    {
     "ename": "FileNotFoundError",
     "evalue": "ReturnCS323_1/jan8separate.csv not found.",
     "output_type": "error",
     "traceback": [
      "\u001b[0;31m---------------------------------------------------------------------------\u001b[0m",
      "\u001b[0;31mFileNotFoundError\u001b[0m                         Traceback (most recent call last)",
      "Cell \u001b[0;32mIn [22], line 1\u001b[0m\n\u001b[0;32m----> 1\u001b[0m mydata1 \u001b[38;5;241m=\u001b[39m \u001b[43mnp\u001b[49m\u001b[38;5;241;43m.\u001b[39;49m\u001b[43mloadtxt\u001b[49m\u001b[43m(\u001b[49m\u001b[38;5;124;43m\"\u001b[39;49m\u001b[38;5;124;43mReturnCS323_1/jan8separate.csv\u001b[39;49m\u001b[38;5;124;43m\"\u001b[39;49m\u001b[43m,\u001b[49m\u001b[43mdelimiter\u001b[49m\u001b[38;5;241;43m=\u001b[39;49m\u001b[38;5;124;43m\"\u001b[39;49m\u001b[38;5;124;43m,\u001b[39;49m\u001b[38;5;124;43m\"\u001b[39;49m\u001b[43m)\u001b[49m\n",
      "File \u001b[0;32m/usr/lib64/python3.11/site-packages/numpy/lib/npyio.py:1356\u001b[0m, in \u001b[0;36mloadtxt\u001b[0;34m(fname, dtype, comments, delimiter, converters, skiprows, usecols, unpack, ndmin, encoding, max_rows, quotechar, like)\u001b[0m\n\u001b[1;32m   1353\u001b[0m \u001b[38;5;28;01mif\u001b[39;00m \u001b[38;5;28misinstance\u001b[39m(delimiter, \u001b[38;5;28mbytes\u001b[39m):\n\u001b[1;32m   1354\u001b[0m     delimiter \u001b[38;5;241m=\u001b[39m delimiter\u001b[38;5;241m.\u001b[39mdecode(\u001b[38;5;124m'\u001b[39m\u001b[38;5;124mlatin1\u001b[39m\u001b[38;5;124m'\u001b[39m)\n\u001b[0;32m-> 1356\u001b[0m arr \u001b[38;5;241m=\u001b[39m \u001b[43m_read\u001b[49m\u001b[43m(\u001b[49m\u001b[43mfname\u001b[49m\u001b[43m,\u001b[49m\u001b[43m \u001b[49m\u001b[43mdtype\u001b[49m\u001b[38;5;241;43m=\u001b[39;49m\u001b[43mdtype\u001b[49m\u001b[43m,\u001b[49m\u001b[43m \u001b[49m\u001b[43mcomment\u001b[49m\u001b[38;5;241;43m=\u001b[39;49m\u001b[43mcomment\u001b[49m\u001b[43m,\u001b[49m\u001b[43m \u001b[49m\u001b[43mdelimiter\u001b[49m\u001b[38;5;241;43m=\u001b[39;49m\u001b[43mdelimiter\u001b[49m\u001b[43m,\u001b[49m\n\u001b[1;32m   1357\u001b[0m \u001b[43m            \u001b[49m\u001b[43mconverters\u001b[49m\u001b[38;5;241;43m=\u001b[39;49m\u001b[43mconverters\u001b[49m\u001b[43m,\u001b[49m\u001b[43m \u001b[49m\u001b[43mskiplines\u001b[49m\u001b[38;5;241;43m=\u001b[39;49m\u001b[43mskiprows\u001b[49m\u001b[43m,\u001b[49m\u001b[43m \u001b[49m\u001b[43musecols\u001b[49m\u001b[38;5;241;43m=\u001b[39;49m\u001b[43musecols\u001b[49m\u001b[43m,\u001b[49m\n\u001b[1;32m   1358\u001b[0m \u001b[43m            \u001b[49m\u001b[43munpack\u001b[49m\u001b[38;5;241;43m=\u001b[39;49m\u001b[43munpack\u001b[49m\u001b[43m,\u001b[49m\u001b[43m \u001b[49m\u001b[43mndmin\u001b[49m\u001b[38;5;241;43m=\u001b[39;49m\u001b[43mndmin\u001b[49m\u001b[43m,\u001b[49m\u001b[43m \u001b[49m\u001b[43mencoding\u001b[49m\u001b[38;5;241;43m=\u001b[39;49m\u001b[43mencoding\u001b[49m\u001b[43m,\u001b[49m\n\u001b[1;32m   1359\u001b[0m \u001b[43m            \u001b[49m\u001b[43mmax_rows\u001b[49m\u001b[38;5;241;43m=\u001b[39;49m\u001b[43mmax_rows\u001b[49m\u001b[43m,\u001b[49m\u001b[43m \u001b[49m\u001b[43mquote\u001b[49m\u001b[38;5;241;43m=\u001b[39;49m\u001b[43mquotechar\u001b[49m\u001b[43m)\u001b[49m\n\u001b[1;32m   1361\u001b[0m \u001b[38;5;28;01mreturn\u001b[39;00m arr\n",
      "File \u001b[0;32m/usr/lib64/python3.11/site-packages/numpy/lib/npyio.py:975\u001b[0m, in \u001b[0;36m_read\u001b[0;34m(fname, delimiter, comment, quote, imaginary_unit, usecols, skiplines, max_rows, converters, ndmin, unpack, dtype, encoding)\u001b[0m\n\u001b[1;32m    973\u001b[0m     fname \u001b[38;5;241m=\u001b[39m os\u001b[38;5;241m.\u001b[39mfspath(fname)\n\u001b[1;32m    974\u001b[0m \u001b[38;5;28;01mif\u001b[39;00m \u001b[38;5;28misinstance\u001b[39m(fname, \u001b[38;5;28mstr\u001b[39m):\n\u001b[0;32m--> 975\u001b[0m     fh \u001b[38;5;241m=\u001b[39m \u001b[43mnp\u001b[49m\u001b[38;5;241;43m.\u001b[39;49m\u001b[43mlib\u001b[49m\u001b[38;5;241;43m.\u001b[39;49m\u001b[43m_datasource\u001b[49m\u001b[38;5;241;43m.\u001b[39;49m\u001b[43mopen\u001b[49m\u001b[43m(\u001b[49m\u001b[43mfname\u001b[49m\u001b[43m,\u001b[49m\u001b[43m \u001b[49m\u001b[38;5;124;43m'\u001b[39;49m\u001b[38;5;124;43mrt\u001b[39;49m\u001b[38;5;124;43m'\u001b[39;49m\u001b[43m,\u001b[49m\u001b[43m \u001b[49m\u001b[43mencoding\u001b[49m\u001b[38;5;241;43m=\u001b[39;49m\u001b[43mencoding\u001b[49m\u001b[43m)\u001b[49m\n\u001b[1;32m    976\u001b[0m     \u001b[38;5;28;01mif\u001b[39;00m encoding \u001b[38;5;129;01mis\u001b[39;00m \u001b[38;5;28;01mNone\u001b[39;00m:\n\u001b[1;32m    977\u001b[0m         encoding \u001b[38;5;241m=\u001b[39m \u001b[38;5;28mgetattr\u001b[39m(fh, \u001b[38;5;124m'\u001b[39m\u001b[38;5;124mencoding\u001b[39m\u001b[38;5;124m'\u001b[39m, \u001b[38;5;124m'\u001b[39m\u001b[38;5;124mlatin1\u001b[39m\u001b[38;5;124m'\u001b[39m)\n",
      "File \u001b[0;32m/usr/lib64/python3.11/site-packages/numpy/lib/_datasource.py:193\u001b[0m, in \u001b[0;36mopen\u001b[0;34m(path, mode, destpath, encoding, newline)\u001b[0m\n\u001b[1;32m    156\u001b[0m \u001b[38;5;124;03m\"\"\"\u001b[39;00m\n\u001b[1;32m    157\u001b[0m \u001b[38;5;124;03mOpen `path` with `mode` and return the file object.\u001b[39;00m\n\u001b[1;32m    158\u001b[0m \n\u001b[0;32m   (...)\u001b[0m\n\u001b[1;32m    189\u001b[0m \n\u001b[1;32m    190\u001b[0m \u001b[38;5;124;03m\"\"\"\u001b[39;00m\n\u001b[1;32m    192\u001b[0m ds \u001b[38;5;241m=\u001b[39m DataSource(destpath)\n\u001b[0;32m--> 193\u001b[0m \u001b[38;5;28;01mreturn\u001b[39;00m \u001b[43mds\u001b[49m\u001b[38;5;241;43m.\u001b[39;49m\u001b[43mopen\u001b[49m\u001b[43m(\u001b[49m\u001b[43mpath\u001b[49m\u001b[43m,\u001b[49m\u001b[43m \u001b[49m\u001b[43mmode\u001b[49m\u001b[43m,\u001b[49m\u001b[43m \u001b[49m\u001b[43mencoding\u001b[49m\u001b[38;5;241;43m=\u001b[39;49m\u001b[43mencoding\u001b[49m\u001b[43m,\u001b[49m\u001b[43m \u001b[49m\u001b[43mnewline\u001b[49m\u001b[38;5;241;43m=\u001b[39;49m\u001b[43mnewline\u001b[49m\u001b[43m)\u001b[49m\n",
      "File \u001b[0;32m/usr/lib64/python3.11/site-packages/numpy/lib/_datasource.py:533\u001b[0m, in \u001b[0;36mDataSource.open\u001b[0;34m(self, path, mode, encoding, newline)\u001b[0m\n\u001b[1;32m    530\u001b[0m     \u001b[38;5;28;01mreturn\u001b[39;00m _file_openers[ext](found, mode\u001b[38;5;241m=\u001b[39mmode,\n\u001b[1;32m    531\u001b[0m                               encoding\u001b[38;5;241m=\u001b[39mencoding, newline\u001b[38;5;241m=\u001b[39mnewline)\n\u001b[1;32m    532\u001b[0m \u001b[38;5;28;01melse\u001b[39;00m:\n\u001b[0;32m--> 533\u001b[0m     \u001b[38;5;28;01mraise\u001b[39;00m \u001b[38;5;167;01mFileNotFoundError\u001b[39;00m(\u001b[38;5;124mf\u001b[39m\u001b[38;5;124m\"\u001b[39m\u001b[38;5;132;01m{\u001b[39;00mpath\u001b[38;5;132;01m}\u001b[39;00m\u001b[38;5;124m not found.\u001b[39m\u001b[38;5;124m\"\u001b[39m)\n",
      "\u001b[0;31mFileNotFoundError\u001b[0m: ReturnCS323_1/jan8separate.csv not found."
     ]
    }
   ],
   "source": [
    "mydata1 = np.loadtxt(\"ReturnCS323_1/jan8separate.csv\",delimiter=\",\")"
   ]
  },
  {
   "cell_type": "code",
   "execution_count": 20,
   "id": "34f60e24-769e-477c-9868-78e237de2453",
   "metadata": {},
   "outputs": [
    {
     "ename": "NameError",
     "evalue": "name 'mydata1' is not defined",
     "output_type": "error",
     "traceback": [
      "\u001b[0;31m---------------------------------------------------------------------------\u001b[0m",
      "\u001b[0;31mNameError\u001b[0m                                 Traceback (most recent call last)",
      "Cell \u001b[0;32mIn [20], line 3\u001b[0m\n\u001b[1;32m      1\u001b[0m fig \u001b[38;5;241m=\u001b[39m plt\u001b[38;5;241m.\u001b[39mfigure()\n\u001b[1;32m      2\u001b[0m ax \u001b[38;5;241m=\u001b[39m fig\u001b[38;5;241m.\u001b[39madd_subplot(projection\u001b[38;5;241m=\u001b[39m\u001b[38;5;124m'\u001b[39m\u001b[38;5;124m3d\u001b[39m\u001b[38;5;124m'\u001b[39m)\n\u001b[0;32m----> 3\u001b[0m ax\u001b[38;5;241m.\u001b[39mscatter(\u001b[43mmydata1\u001b[49m[:,\u001b[38;5;241m0\u001b[39m]\u001b[38;5;241m.\u001b[39mT, mydata1[:,\u001b[38;5;241m1\u001b[39m]\u001b[38;5;241m.\u001b[39mT, zs \u001b[38;5;241m=\u001b[39m mydata1[:,\u001b[38;5;241m2\u001b[39m]\u001b[38;5;241m.\u001b[39mT, c\u001b[38;5;241m=\u001b[39mmydata1[:,\u001b[38;5;241m3\u001b[39m]\u001b[38;5;241m.\u001b[39mT)\n",
      "\u001b[0;31mNameError\u001b[0m: name 'mydata1' is not defined"
     ]
    },
    {
     "data": {
      "image/png": "[encoded data removed]",
      "text/plain": [
       "<Figure size 432x288 with 1 Axes>"
      ]
     },
     "metadata": {
      "needs_background": "light"
     },
     "output_type": "display_data"
    }
   ],
   "source": [
    "fig = plt.figure()\n",
    "ax = fig.add_subplot(projection='3d')\n",
    "ax.scatter(mydata1[:,0].T, mydata1[:,1].T, zs = mydata1[:,2].T, c=mydata1[:,3].T)"
   ]
  },
  {
   "cell_type": "code",
   "execution_count": null,
   "id": "2475554d-20a0-4c55-9f40-04e5301465bc",
   "metadata": {},
   "outputs": [],
   "source": [
    "w = np.zeros(4)"
   ]
  },
  {
   "cell_type": "code",
   "execution_count": null,
   "id": "81f056a7-1c46-4af9-af86-32cb81a7b8d2",
   "metadata": {},
   "outputs": [],
   "source": [
    "while True:\n",
    "    m = 0\n",
    "    for x in mydata1:\n",
    "        if x[3]*np.dot(w, x) <= 0:\n",
    "            w = w + x[3]*x\n",
    "            m = m + 1\n",
    "    if m == 0:\n",
    "        break"
   ]
  },
  {
   "cell_type": "code",
   "execution_count": null,
   "id": "a22a8364-d5d3-478a-a863-1a14641d7d36",
   "metadata": {},
   "outputs": [],
   "source": [
    "w"
   ]
  },
  {
   "cell_type": "code",
   "execution_count": null,
   "id": "299863bb-94bd-4254-89b4-fa845b244b96",
   "metadata": {},
   "outputs": [],
   "source": [
    "def myline(xv,yv):\n",
    "    return (-2.68732827/1.98533201)*xv - 1.44073213/1.98533201*yv - 1/1.98533201"
   ]
  },
  {
   "cell_type": "code",
   "execution_count": null,
   "id": "803131cc-2c8d-459b-88c3-2872e8e1a502",
   "metadata": {},
   "outputs": [],
   "source": [
    "xv = np.arange(-6,6,.1)\n",
    "yv = np.arange(-6,6,.1)\n",
    "xv, yv = np.meshgrid(x,y)"
   ]
  },
  {
   "cell_type": "code",
   "execution_count": null,
   "id": "55aedcaf-9cac-4402-91f0-69eff54f5d25",
   "metadata": {},
   "outputs": [],
   "source": [
    "fig = plt.figure()\n",
    "ax = fig.add_subplot(projection='3d')\n",
    "ax.plot_surface(xv, yv, myline(xv,yv))\n",
    "ax.scatter(mydata1[:,0].T, mydata1[:,1].T, zs = mydata1[:,2].T, c=mydata1[:,3].T)\n",
    "ax.view_init(0,-50,0)"
   ]
  },
  {
   "cell_type": "code",
   "execution_count": null,
   "id": "36f09b5c-a80f-449c-9dfe-9cd3b9bbefc0",
   "metadata": {},
   "outputs": [],
   "source": []
  }
 ],
 "metadata": {
  "kernelspec": {
   "display_name": "Python 3",
   "language": "python",
   "name": "python3"
  },
  "language_info": {
   "codemirror_mode": {
    "name": "ipython",
    "version": 3
   },
   "file_extension": ".py",
   "mimetype": "text/x-python",
   "name": "python",
   "nbconvert_exporter": "python",
   "pygments_lexer": "ipython3",
   "version": "3.11.6"
  }
 },
 "nbformat": 4,
 "nbformat_minor": 5
}

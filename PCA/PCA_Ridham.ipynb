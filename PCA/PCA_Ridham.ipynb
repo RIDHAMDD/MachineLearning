{
 "cells": [
  {
   "cell_type": "code",
   "execution_count": 1,
   "id": "d427c819-e188-4b3e-a881-6b288e1d1a62",
   "metadata": {},
   "outputs": [],
   "source": [
    "import numpy as np\n",
    "import matplotlib.pyplot as plt"
   ]
  },
  {
   "cell_type": "markdown",
   "id": "a9e32d18-fe85-4ecf-808b-ce6e4b8e0379",
   "metadata": {},
   "source": [
    "# problem 1"
   ]
  },
  {
   "cell_type": "markdown",
   "id": "9fe98410-aad0-4b8f-94e4-af5d0a7b1291",
   "metadata": {},
   "source": [
    "# PCA and Text Models"
   ]
  },
  {
   "cell_type": "code",
   "execution_count": 2,
   "id": "a9771242-78ee-45e0-9697-1851eea33485",
   "metadata": {},
   "outputs": [],
   "source": [
    "#Q1"
   ]
  },
  {
   "cell_type": "code",
   "execution_count": 3,
   "id": "44cf18e7-7dcc-4ae1-90e3-452ca12a6b99",
   "metadata": {},
   "outputs": [],
   "source": [
    "data1 = np.random.multivariate_normal([0,0], [[1,0],[0,1]], 100)\n",
    "data2 = np.random.multivariate_normal([0,0], [[1,-.9],[-.9,1]], 100)"
   ]
  },
  {
   "cell_type": "code",
   "execution_count": 4,
   "id": "96a762aa-c0c6-4a52-88df-27dbc5c18777",
   "metadata": {},
   "outputs": [
    {
     "data": {
      "text/plain": [
       "<function matplotlib.pyplot.show(close=None, block=None)>"
      ]
     },
     "execution_count": 4,
     "metadata": {},
     "output_type": "execute_result"
    },
    {
     "data": {
      "image/png": "[encoded data removed]",
      "text/plain": [
       "<Figure size 640x480 with 2 Axes>"
      ]
     },
     "metadata": {},
     "output_type": "display_data"
    }
   ],
   "source": [
    "fig,axs = plt.subplots(1,2)\n",
    "axs[0].scatter(data1[:,0], data1[:,1])\n",
    "axs[1].scatter(data2[:,0], data2[:,1])\n",
    "plt.show"
   ]
  },
  {
   "cell_type": "code",
   "execution_count": 5,
   "id": "ad942d62-54f9-4a0c-b30e-7091cd6c3c16",
   "metadata": {},
   "outputs": [],
   "source": [
    "# Just from the graph, I think the correlation of data1 is very weak between x and y \n",
    "#hence the r value will be less"
   ]
  },
  {
   "cell_type": "code",
   "execution_count": 6,
   "id": "96d53202-5eeb-486e-87ac-0c75c0ee74cc",
   "metadata": {},
   "outputs": [],
   "source": [
    "# Just from the graph, I think the correlation of data2 is very strong between x and y \n",
    "#hence the r value will be high"
   ]
  },
  {
   "cell_type": "code",
   "execution_count": 7,
   "id": "83ae378c-5250-484e-8c17-96d3387aca49",
   "metadata": {},
   "outputs": [],
   "source": [
    "#Q2"
   ]
  },
  {
   "cell_type": "code",
   "execution_count": 8,
   "id": "4ca6bd2c-3872-4aa5-88d5-8d049484251a",
   "metadata": {},
   "outputs": [
    {
     "name": "stdout",
     "output_type": "stream",
     "text": [
      "Defaulting to user installation because normal site-packages is not writeable\n",
      "Requirement already satisfied: scikit-learn in ./Library/Python/3.9/lib/python/site-packages (1.4.0)\n",
      "Requirement already satisfied: numpy<2.0,>=1.19.5 in ./Library/Python/3.9/lib/python/site-packages (from scikit-learn) (1.26.3)\n",
      "Requirement already satisfied: scipy>=1.6.0 in ./Library/Python/3.9/lib/python/site-packages (from scikit-learn) (1.12.0)\n",
      "Requirement already satisfied: joblib>=1.2.0 in ./Library/Python/3.9/lib/python/site-packages (from scikit-learn) (1.3.2)\n",
      "Requirement already satisfied: threadpoolctl>=2.0.0 in ./Library/Python/3.9/lib/python/site-packages (from scikit-learn) (3.2.0)\n",
      "\n",
      "\u001b[1m[\u001b[0m\u001b[34;49mnotice\u001b[0m\u001b[1;39;49m]\u001b[0m\u001b[39;49m A new release of pip is available: \u001b[0m\u001b[31;49m23.3.2\u001b[0m\u001b[39;49m -> \u001b[0m\u001b[32;49m24.0\u001b[0m\n",
      "\u001b[1m[\u001b[0m\u001b[34;49mnotice\u001b[0m\u001b[1;39;49m]\u001b[0m\u001b[39;49m To update, run: \u001b[0m\u001b[32;49m/Applications/Xcode.app/Contents/Developer/usr/bin/python3 -m pip install --upgrade pip\u001b[0m\n",
      "Note: you may need to restart the kernel to use updated packages.\n"
     ]
    }
   ],
   "source": [
    "pip install scikit-learn"
   ]
  },
  {
   "cell_type": "code",
   "execution_count": 9,
   "id": "190f3114-efc7-4c53-bbfd-eff9b8404c15",
   "metadata": {},
   "outputs": [],
   "source": [
    "from sklearn.decomposition import PCA"
   ]
  },
  {
   "cell_type": "code",
   "execution_count": 10,
   "id": "d9b7bf86-c5e2-4bb7-8761-6bd107089af9",
   "metadata": {},
   "outputs": [],
   "source": [
    "mypca = PCA(n_components = 2)"
   ]
  },
  {
   "cell_type": "code",
   "execution_count": 11,
   "id": "1f3d6bbf-4528-4545-a91b-2ee57375d996",
   "metadata": {},
   "outputs": [],
   "source": [
    "myXprinc = mypca.fit(data1)"
   ]
  },
  {
   "cell_type": "code",
   "execution_count": 12,
   "id": "d7d5f0eb-43d2-4822-9fa3-6664f948fac4",
   "metadata": {},
   "outputs": [
    {
     "data": {
      "text/plain": [
       "array([0.62945328, 0.37054672])"
      ]
     },
     "execution_count": 12,
     "metadata": {},
     "output_type": "execute_result"
    }
   ],
   "source": [
    "myXprinc.explained_variance_ratio_"
   ]
  },
  {
   "cell_type": "code",
   "execution_count": 13,
   "id": "cf5013e0-3ed2-41e6-b12b-e870ba1dfde3",
   "metadata": {},
   "outputs": [],
   "source": [
    "#Q3\n",
    "# Higher"
   ]
  },
  {
   "cell_type": "code",
   "execution_count": 14,
   "id": "b6dbc771-aa03-48df-9c98-65370a110eb4",
   "metadata": {},
   "outputs": [],
   "source": [
    "#Q4"
   ]
  },
  {
   "cell_type": "code",
   "execution_count": 15,
   "id": "6950649c-490d-4194-a434-1a5f74d7bb42",
   "metadata": {},
   "outputs": [],
   "source": [
    "mypca1 = PCA(n_components = 2)"
   ]
  },
  {
   "cell_type": "code",
   "execution_count": 16,
   "id": "5dcdbfe9-ef10-4228-809c-eff481ae5803",
   "metadata": {},
   "outputs": [],
   "source": [
    "myXprinc1 = mypca.fit(data2)"
   ]
  },
  {
   "cell_type": "code",
   "execution_count": 17,
   "id": "7a50bc15-10f7-40e5-84f5-eff559e91da2",
   "metadata": {},
   "outputs": [
    {
     "data": {
      "text/plain": [
       "array([0.96538399, 0.03461601])"
      ]
     },
     "execution_count": 17,
     "metadata": {},
     "output_type": "execute_result"
    }
   ],
   "source": [
    "myXprinc1.explained_variance_ratio_"
   ]
  },
  {
   "cell_type": "code",
   "execution_count": 18,
   "id": "77998140-e5df-462b-87b8-2024b8116ceb",
   "metadata": {},
   "outputs": [],
   "source": [
    "#Q5"
   ]
  },
  {
   "cell_type": "code",
   "execution_count": 19,
   "id": "b2c5d238-63bf-4080-a082-0c7ec36b491b",
   "metadata": {},
   "outputs": [],
   "source": [
    "pc = myXprinc1.components_[0]"
   ]
  },
  {
   "cell_type": "code",
   "execution_count": 20,
   "id": "5e82667d-d58f-4abc-adbe-c4219c7ec8c3",
   "metadata": {},
   "outputs": [
    {
     "data": {
      "text/plain": [
       "[<matplotlib.lines.Line2D at 0x12d3d2c40>]"
      ]
     },
     "execution_count": 20,
     "metadata": {},
     "output_type": "execute_result"
    },
    {
     "data": {
      "image/png": "[encoded data removed]",
      "text/plain": [
       "<Figure size 640x480 with 1 Axes>"
      ]
     },
     "metadata": {},
     "output_type": "display_data"
    }
   ],
   "source": [
    "plt.scatter(data2[:,0],data2[:,1])\n",
    "plt.plot([0,pc[0]],[0,pc[1]], c = 'red')"
   ]
  },
  {
   "cell_type": "markdown",
   "id": "bf5de334-a367-4e5f-8be0-b19097ec7015",
   "metadata": {},
   "source": [
    "# Problem 2"
   ]
  },
  {
   "cell_type": "code",
   "execution_count": 1,
   "id": "e7841903-5ae0-4b14-a49f-981c077d0582",
   "metadata": {},
   "outputs": [],
   "source": [
    "import pandas as pd\n",
    "data = pd.read_csv(\"CNotesCS323_1/imdb-dataset.csv\")"
   ]
  },
  {
   "cell_type": "code",
   "execution_count": 96,
   "id": "a75f58cf-88c3-404b-8bf1-d545391456b3",
   "metadata": {},
   "outputs": [],
   "source": [
    "sent = data.loc[:,'sentiment']"
   ]
  },
  {
   "cell_type": "code",
   "execution_count": 97,
   "id": "c0b53fb0-6047-4fb4-ac68-e211f9b60202",
   "metadata": {},
   "outputs": [],
   "source": [
    "mystring = data.loc[:,'review']"
   ]
  },
  {
   "cell_type": "code",
   "execution_count": 98,
   "id": "d8c8de20-3cf9-46f8-900d-f67c0a598709",
   "metadata": {},
   "outputs": [
    {
     "data": {
      "text/plain": [
       "0        One of the other reviewers has mentioned that ...\n",
       "1        A wonderful little production. <br /><br />The...\n",
       "2        I thought this was a wonderful way to spend ti...\n",
       "3        Basically there's a family where a little boy ...\n",
       "4        Petter Mattei's \"Love in the Time of Money\" is...\n",
       "                               ...                        \n",
       "49995    I thought this movie did a down right good job...\n",
       "49996    Bad plot, bad dialogue, bad acting, idiotic di...\n",
       "49997    I am a Catholic taught in parochial elementary...\n",
       "49998    I'm going to have to disagree with the previou...\n",
       "49999    No one expects the Star Trek movies to be high...\n",
       "Name: review, Length: 50000, dtype: object"
      ]
     },
     "execution_count": 98,
     "metadata": {},
     "output_type": "execute_result"
    }
   ],
   "source": [
    "mystring"
   ]
  },
  {
   "cell_type": "code",
   "execution_count": 25,
   "id": "80e9cc25-ac73-4ccb-9217-0cedf5a8d7de",
   "metadata": {},
   "outputs": [],
   "source": [
    "mystring[:] = mystring[:].apply(lambda x: x.lower())"
   ]
  },
  {
   "cell_type": "code",
   "execution_count": 26,
   "id": "a9f0a575-a976-4401-896a-d6d49d5f36b0",
   "metadata": {},
   "outputs": [
    {
     "data": {
      "text/plain": [
       "0        one of the other reviewers has mentioned that ...\n",
       "1        a wonderful little production. <br /><br />the...\n",
       "2        i thought this was a wonderful way to spend ti...\n",
       "3        basically there's a family where a little boy ...\n",
       "4        petter mattei's \"love in the time of money\" is...\n",
       "                               ...                        \n",
       "49995    i thought this movie did a down right good job...\n",
       "49996    bad plot, bad dialogue, bad acting, idiotic di...\n",
       "49997    i am a catholic taught in parochial elementary...\n",
       "49998    i'm going to have to disagree with the previou...\n",
       "49999    no one expects the star trek movies to be high...\n",
       "Name: review, Length: 50000, dtype: object"
      ]
     },
     "execution_count": 26,
     "metadata": {},
     "output_type": "execute_result"
    }
   ],
   "source": [
    "mystring"
   ]
  },
  {
   "cell_type": "code",
   "execution_count": 27,
   "id": "168f19c5-5b2f-4000-a590-c04c4f825705",
   "metadata": {},
   "outputs": [],
   "source": [
    "import re"
   ]
  },
  {
   "cell_type": "code",
   "execution_count": 28,
   "id": "1e7b404b-f969-4134-8c64-38e9ddcaaba1",
   "metadata": {},
   "outputs": [],
   "source": [
    "mystring[:] = mystring[:].apply(lambda x: re.sub('<[^>]*>','',x))"
   ]
  },
  {
   "cell_type": "code",
   "execution_count": 29,
   "id": "9a3162ca-bf4a-4d78-bdf1-59a244aa9bed",
   "metadata": {},
   "outputs": [],
   "source": [
    "mystring[:] = mystring[:].apply(lambda x: re.sub('\\.|,|\\(|\\)|\\?|\\'|\\;',' ',x))"
   ]
  },
  {
   "cell_type": "code",
   "execution_count": 30,
   "id": "5357c335-a1ea-4743-96c7-916eb1ddc539",
   "metadata": {},
   "outputs": [],
   "source": [
    "mystring[:] = mystring[:].apply(lambda x: re.sub('[\\d+]','',x))"
   ]
  },
  {
   "cell_type": "code",
   "execution_count": 31,
   "id": "26dce166-a797-44b0-94de-c1909e8d0295",
   "metadata": {},
   "outputs": [],
   "source": [
    "import random\n",
    "rand = random.sample(range(1, len(mystring)), 6)"
   ]
  },
  {
   "cell_type": "code",
   "execution_count": 32,
   "id": "c561358e-7fb7-48ad-99b9-42cad18116bc",
   "metadata": {},
   "outputs": [
    {
     "name": "stdout",
     "output_type": "stream",
     "text": [
      "Sentence:  6304  -->  let s face it  a truly awful movie  no   i mean a \"truly\" awful movie  is a rare  strange  and beautiful thing to behold  i admite that there is a special place in my heart for films like plan  from outer space  half caste  species  etc  and although i m giving this film a   i highly urge anyone who enjoys a bad film for what it truly is  a bad film  to find a friend  snacks  something to drink  and make the special occasion it deserves out of: aussie park boyz  from the very first moments of the lead actor s side to side eye-rolling performance as he attempts to inject intensity directly into the film without ever looking at a camera  a slice of ham straight out of silent pictures--eat your heart out rudolph valentino  to the sudden hey-we re-out-of-film conclusion  you   will   not   stop   laughing  to sum the film up  its a poor man s warriors down under  complete--and that description alone should be enough  but then comes the wonders of \"the spaghetti eating scene\"  \"the  we ve got their tickets  they won t be leaving town now  scene\"  \"it s the asians! run!!\" and more  the only truly objectionable part is a gratuitously filmed rape  outside of this  i dare you to watch this film  and i dare you to find evidence of acting  or lines  or direction  or any of those other boring and superfluous elements that so-called critics say a film needs to be judged as good  if this movie doesn t cause fits of uncontrollable laughter before it ends  all i can do is roll my eyes menacingly from side to side at you and shout  \"you dog! you dog! you dog!\"\n",
      "\n",
      "Sentence:  26397  -->  i couldn t believe my eyes once i ve watched this movie  there s no point in it either then blood and violence  unlike other scary movies that had gore and a meaning to it this movie is just blood  gore  and killing one after another  this movie isn t interesting at all  has no meaningful plot or story line  nor does it have an intelligence in it  the blood looks very fake and this movie overall  is pointless  don t even waste your time with it  it s just an hour or two of mindless violence  it has many bloody scenes that aren t scary but just plain revolting  this is probably the worst horror film i have ever watched out of all the horror films i ever saw \n",
      "\n",
      "Sentence:  42403  -->  this film doesn t know what it wants to be: is it making fun of action movies in general  is it satirical  is it supposed to be a black comedy  this is truly one of the worst films ever made lori petty is annoying  there  i said what everyone else is thinking  it s bad enough that she s such a terrible actress  route   bates motel   but she doesn t even qualify as a mediocre b-movie actress  her screechy voice  strange mannerisms  and poor comic timing dot this film from start to finish  until you just want to put your head in a vise and end the pain do yourself a favor and avoid this movie at all costs  you ll be glad you did \n",
      "\n",
      "Sentence:  35325  -->  larry burrows has the distinct feeling he s missing out on something  ever since he missed a crucial baseball shot at school that cost the championship  he s been convinced his life would have turned out better had he made that shot  then one night his car breaks down again  walking into the nearest bar to wait for the tow truck  larry happens upon barman mike  who unbeknown to larry is about to change his life for ever       the alternate life premise in cinema is hardly a new thing  stretching back to the likes of it s a wonderful life and showing no signs of abating with the quite recent sandler vehicle that was click  it s a genre that has produced very mixed results  back in  was this james belushi led production  rarely mentioned when the said topic arises  it appears that it has largely been forgotten  which is a shame since it oozes charm and is not short in the humour department  we know that we are being led to its ultimate message come the end  but it s a fun and enjoyable path to be led down  the film also serves notice to what a fine comedy actor james belushi was  i mean if his style of smart quipping and larking exasperation isn t your thing   then chances are you would avoid this film anyway  but for those engaged by the likes of red heat  k- and taking care of business  well mr  destiny is right up your street  along for the ride are linda hamilton  michael caine  jon lovitz  hart bochner  jay o  sanders  rene russo and courteney cox mr  destiny  pure escapist fun with a kicker of a message at its heart  /\n",
      "\n",
      "Sentence:  12018  -->  i saw crispin glover s \"what is it \" at the ann arbor film festival  admittedly  the film was at least aptly named  because i got the distinct sense that even the writer/director could provide no answer  at the question and answer session after the screening  mr  glover said that the film was originally meant to be a short film to show the virtue of using actors with down-syndrome  however  this is in itself not enough of a reason to create a film  actors are  in my opinion  building blocks for a larger vision - a larger vision that seemed muddled at best and absent at worst crispin glover also said that he wanted to address taboo subjects  well  he does do that  but why  the film seems to have no stance  no reason for addressing anything  does he feel these things shouldn t be taboo  the film doesn t even give me an indicator of that  taboo for the sake of taboo is not interesting  it can t even afford to make the taboo disturbing or inciting on any level because he hasn t made the audience care in any way  ignoring problems with the concept for a moment  the thing that actually shocked me most was how poorly the film was put together  the editing  cinematography  and other technical aspects seemed frequently to be extremely amateur  glover said - thousand dollars went into the movie  and i feel that the money should have been spent on different designers  glover actually did some design himself - i know i saw at least sound design in the credits   the painted sets are okay  not great   but used poorly  parts feel like a photographed stage play - which would be fine if that went to any sort of purpose  but in glover s hands it just feels sloppy  other parts are filmed like a sort of home movie  of inferior quality to a lot of the stuff i see first-time filmmakers do on imovie perhaps the biggest problem with \"what is it \" is i can t even understand how seriously the film is to be taken  there are some parts that feel like glover is screaming at you to think seriously  at other points  he seems off on his own little joke  perhaps he meant for this to be ironic  or meaningful in some way  but i just felt that glover couldn t even get himself to give his film any sort of serious attention glover said he originally wanted it to be a short film  if only it had been  at seventy-two minutes  the film runs out of imagery and ideas in the first twenty  and it is arguable if the ideas were formulated enough to claim that they were even there for that period of time \n",
      "\n",
      "Sentence:  7682  -->  the sequel that no one asked for to the movie no one wanted  there are obviously too many flaws with this movie to name here  so i ll just concentrate on the acting  miles o keefe would have been better suited to play the spritely asian sidekick thong  mainly because he would then have no dialogue  lisa foster delivers her lines displaying one emotion  dullness  charles borremel brings life to his part by pausing every five words  and finally the flamboyant  john saxon-type guy      no comment is needed see \"conan the barbarian\" if you need to  but don t waste your time with this low-budget loser \n",
      "\n"
     ]
    }
   ],
   "source": [
    "for x in rand:\n",
    "    print(\"Sentence: \", x, \" --> \", mystring[x])\n",
    "    print()"
   ]
  },
  {
   "cell_type": "code",
   "execution_count": 33,
   "id": "c435fa1e-4e9c-4d83-99f7-2cc2f9aad996",
   "metadata": {},
   "outputs": [],
   "source": [
    "# Q2"
   ]
  },
  {
   "cell_type": "code",
   "execution_count": 34,
   "id": "838dd043-a060-4128-afdb-f52abd744612",
   "metadata": {},
   "outputs": [],
   "source": [
    "import numpy as np\n",
    "from sklearn.feature_extraction.text import CountVectorizer\n",
    "mycount = CountVectorizer()\n",
    "bag = mycount.fit_transform(mystring)"
   ]
  },
  {
   "cell_type": "code",
   "execution_count": 35,
   "id": "22418f78-dd47-419c-876a-22d9c16d26f6",
   "metadata": {},
   "outputs": [
    {
     "data": {
      "text/plain": [
       "<50000x102118 sparse matrix of type '<class 'numpy.int64'>'\n",
       "\twith 6755228 stored elements in Compressed Sparse Row format>"
      ]
     },
     "execution_count": 35,
     "metadata": {},
     "output_type": "execute_result"
    }
   ],
   "source": [
    "bag"
   ]
  },
  {
   "cell_type": "code",
   "execution_count": 36,
   "id": "3fbf13e1-f8f3-46a0-aef3-5639d7cf38e4",
   "metadata": {},
   "outputs": [
    {
     "data": {
      "text/plain": [
       "6755228"
      ]
     },
     "execution_count": 36,
     "metadata": {},
     "output_type": "execute_result"
    }
   ],
   "source": [
    "bag.count_nonzero()"
   ]
  },
  {
   "cell_type": "code",
   "execution_count": 37,
   "id": "9993919b-d090-40fc-80ad-c00d477d982a",
   "metadata": {},
   "outputs": [],
   "source": [
    "arr = bag.toarray()"
   ]
  },
  {
   "cell_type": "code",
   "execution_count": 38,
   "id": "45c33b4a-3314-4e5a-98c4-64409b06be98",
   "metadata": {},
   "outputs": [
    {
     "data": {
      "text/plain": [
       "(50000, 102118)"
      ]
     },
     "execution_count": 38,
     "metadata": {},
     "output_type": "execute_result"
    }
   ],
   "source": [
    "arr.shape"
   ]
  },
  {
   "cell_type": "code",
   "execution_count": 79,
   "id": "46c31878-2dc4-4461-b73a-40142b035ee6",
   "metadata": {},
   "outputs": [
    {
     "data": {
      "text/plain": [
       "102118"
      ]
     },
     "execution_count": 79,
     "metadata": {},
     "output_type": "execute_result"
    }
   ],
   "source": [
    "arr.shape[1]"
   ]
  },
  {
   "cell_type": "markdown",
   "id": "385338f6-da6f-4d6e-9644-88fa23d1abb1",
   "metadata": {},
   "source": [
    "# Q3"
   ]
  },
  {
   "cell_type": "code",
   "execution_count": 141,
   "id": "6a7462de-7dba-4285-b6ae-a77b0c0fb26d",
   "metadata": {},
   "outputs": [],
   "source": [
    "from sklearn.feature_extraction.text import TfidfTransformer"
   ]
  },
  {
   "cell_type": "code",
   "execution_count": 142,
   "id": "c6b1e8c9-4d8c-4d6e-b89b-a4e530b4a102",
   "metadata": {},
   "outputs": [],
   "source": [
    "mycount = CountVectorizer()"
   ]
  },
  {
   "cell_type": "code",
   "execution_count": 144,
   "id": "3d5e0a7e-47cb-46c5-b64d-8eca1fee71d7",
   "metadata": {},
   "outputs": [],
   "source": [
    "mytfidf = TfidfTransformer()"
   ]
  },
  {
   "cell_type": "code",
   "execution_count": 143,
   "id": "f84a0f46-ff28-40c1-baf3-57693d5ae48e",
   "metadata": {},
   "outputs": [],
   "source": [
    "temp = mycount.fit_transform(data['review'].values)"
   ]
  },
  {
   "cell_type": "code",
   "execution_count": 145,
   "id": "3c390ae3-0471-415b-bb1e-cae66d7290a5",
   "metadata": {},
   "outputs": [],
   "source": [
    "bagX = mytfidf.fit_transform(temp)"
   ]
  },
  {
   "cell_type": "code",
   "execution_count": 146,
   "id": "f28815d9-875a-4f0d-b2af-e0a03026eef4",
   "metadata": {},
   "outputs": [],
   "source": [
    "X_train = bagX[:25000]\n",
    "X_test = bagX[25000:]"
   ]
  },
  {
   "cell_type": "code",
   "execution_count": 148,
   "id": "74ba247d-0e24-4a5f-9ee3-302c0e7b6345",
   "metadata": {},
   "outputs": [],
   "source": [
    "y_test = data.loc[25000:, 'sentiment']"
   ]
  },
  {
   "cell_type": "code",
   "execution_count": 149,
   "id": "1fc26c56-4692-453b-8c86-06c05fdaa084",
   "metadata": {},
   "outputs": [],
   "source": [
    "from sklearn.linear_model import LogisticRegression"
   ]
  },
  {
   "cell_type": "code",
   "execution_count": 150,
   "id": "bbb60622-a4f8-4e7b-ac92-c3df4a044031",
   "metadata": {},
   "outputs": [],
   "source": [
    "mylogreg = LogisticRegression()"
   ]
  },
  {
   "cell_type": "code",
   "execution_count": 151,
   "id": "3bd1fea1-0edf-4969-8408-4eaadc1f9ef1",
   "metadata": {},
   "outputs": [],
   "source": [
    "mymodel = mylogreg.fit(X_train, y_train)"
   ]
  },
  {
   "cell_type": "code",
   "execution_count": 152,
   "id": "14abea8a-b175-4431-9ab5-dd882bcfc288",
   "metadata": {},
   "outputs": [],
   "source": [
    "mypredictions = mymodel.predict(X_test)"
   ]
  },
  {
   "cell_type": "code",
   "execution_count": 153,
   "id": "c264b056-d2f2-499b-8933-09c3e4b9b172",
   "metadata": {},
   "outputs": [],
   "source": [
    "from sklearn.metrics import accuracy_score"
   ]
  },
  {
   "cell_type": "code",
   "execution_count": 154,
   "id": "4d3ea028-7539-4cbd-abfb-c0babb8a7911",
   "metadata": {},
   "outputs": [
    {
     "data": {
      "text/plain": [
       "0.89088"
      ]
     },
     "execution_count": 154,
     "metadata": {},
     "output_type": "execute_result"
    }
   ],
   "source": [
    "accuracy_score(mypredictions, y_test)"
   ]
  },
  {
   "cell_type": "code",
   "execution_count": 155,
   "id": "2bff0f55-a530-4d22-88c4-bf2a0450370c",
   "metadata": {},
   "outputs": [],
   "source": [
    "#Tried SVC but it chokes"
   ]
  },
  {
   "cell_type": "code",
   "execution_count": 140,
   "id": "2191398e-602d-4ce8-8626-e718a6758dd4",
   "metadata": {},
   "outputs": [],
   "source": [
    "from sklearn.svm import SVC"
   ]
  },
  {
   "cell_type": "code",
   "execution_count": 135,
   "id": "3fa839c3-6be2-46f1-98b7-23a6eefad4f5",
   "metadata": {},
   "outputs": [],
   "source": [
    "mysvc1 = SVC()"
   ]
  },
  {
   "cell_type": "code",
   "execution_count": null,
   "id": "4035a157-77a9-4559-8d4b-333dc4246632",
   "metadata": {},
   "outputs": [],
   "source": [
    "mymodel = mysvc1.fit(bagX[0:25000],trainy)"
   ]
  },
  {
   "cell_type": "code",
   "execution_count": null,
   "id": "a409e2a3-6b18-48d0-97c7-4a3b86eed7c0",
   "metadata": {},
   "outputs": [],
   "source": [
    "output = mymodel.predict(bagX[25001:50000])"
   ]
  },
  {
   "cell_type": "code",
   "execution_count": null,
   "id": "fc66dee2-f277-411c-ae33-60bedc1e4d4b",
   "metadata": {},
   "outputs": [],
   "source": [
    "output - testy"
   ]
  },
  {
   "cell_type": "code",
   "execution_count": null,
   "id": "2399472a-fb12-42d6-93a4-55850eded830",
   "metadata": {},
   "outputs": [],
   "source": [
    "accuracy_score(output,testy)"
   ]
  },
  {
   "cell_type": "markdown",
   "id": "6589a083-b68e-4358-9944-f2cd4092ca4b",
   "metadata": {},
   "source": [
    "# Problem 3"
   ]
  },
  {
   "cell_type": "code",
   "execution_count": 52,
   "id": "85752497-508c-4b97-b0c0-37b87450a73c",
   "metadata": {},
   "outputs": [],
   "source": [
    "from sklearn.datasets import load_breast_cancer\n",
    "cancer = load_breast_cancer()"
   ]
  },
  {
   "cell_type": "code",
   "execution_count": 53,
   "id": "f6a15e3c-337c-4b3e-90a8-6e29dcfb1fc0",
   "metadata": {},
   "outputs": [],
   "source": [
    "target = list(cancer.target)"
   ]
  },
  {
   "cell_type": "code",
   "execution_count": 54,
   "id": "9b0ff41f-4eb6-490f-b3c8-1ab7e8c5d22f",
   "metadata": {},
   "outputs": [
    {
     "data": {
      "text/html": [
       "<div>\n",
       "<style scoped>\n",
       "    .dataframe tbody tr th:only-of-type {\n",
       "        vertical-align: middle;\n",
       "    }\n",
       "\n",
       "    .dataframe tbody tr th {\n",
       "        vertical-align: top;\n",
       "    }\n",
       "\n",
       "    .dataframe thead tr th {\n",
       "        text-align: left;\n",
       "    }\n",
       "</style>\n",
       "<table border=\"1\" class=\"dataframe\">\n",
       "  <thead>\n",
       "    <tr>\n",
       "      <th></th>\n",
       "      <th>mean radius</th>\n",
       "      <th>mean texture</th>\n",
       "      <th>mean perimeter</th>\n",
       "      <th>mean area</th>\n",
       "      <th>mean smoothness</th>\n",
       "      <th>mean compactness</th>\n",
       "      <th>mean concavity</th>\n",
       "      <th>mean concave points</th>\n",
       "      <th>mean symmetry</th>\n",
       "      <th>mean fractal dimension</th>\n",
       "      <th>...</th>\n",
       "      <th>worst radius</th>\n",
       "      <th>worst texture</th>\n",
       "      <th>worst perimeter</th>\n",
       "      <th>worst area</th>\n",
       "      <th>worst smoothness</th>\n",
       "      <th>worst compactness</th>\n",
       "      <th>worst concavity</th>\n",
       "      <th>worst concave points</th>\n",
       "      <th>worst symmetry</th>\n",
       "      <th>worst fractal dimension</th>\n",
       "    </tr>\n",
       "  </thead>\n",
       "  <tbody>\n",
       "    <tr>\n",
       "      <th>0</th>\n",
       "      <td>17.99</td>\n",
       "      <td>10.38</td>\n",
       "      <td>122.80</td>\n",
       "      <td>1001.0</td>\n",
       "      <td>0.11840</td>\n",
       "      <td>0.27760</td>\n",
       "      <td>0.30010</td>\n",
       "      <td>0.14710</td>\n",
       "      <td>0.2419</td>\n",
       "      <td>0.07871</td>\n",
       "      <td>...</td>\n",
       "      <td>25.380</td>\n",
       "      <td>17.33</td>\n",
       "      <td>184.60</td>\n",
       "      <td>2019.0</td>\n",
       "      <td>0.16220</td>\n",
       "      <td>0.66560</td>\n",
       "      <td>0.7119</td>\n",
       "      <td>0.2654</td>\n",
       "      <td>0.4601</td>\n",
       "      <td>0.11890</td>\n",
       "    </tr>\n",
       "    <tr>\n",
       "      <th>1</th>\n",
       "      <td>20.57</td>\n",
       "      <td>17.77</td>\n",
       "      <td>132.90</td>\n",
       "      <td>1326.0</td>\n",
       "      <td>0.08474</td>\n",
       "      <td>0.07864</td>\n",
       "      <td>0.08690</td>\n",
       "      <td>0.07017</td>\n",
       "      <td>0.1812</td>\n",
       "      <td>0.05667</td>\n",
       "      <td>...</td>\n",
       "      <td>24.990</td>\n",
       "      <td>23.41</td>\n",
       "      <td>158.80</td>\n",
       "      <td>1956.0</td>\n",
       "      <td>0.12380</td>\n",
       "      <td>0.18660</td>\n",
       "      <td>0.2416</td>\n",
       "      <td>0.1860</td>\n",
       "      <td>0.2750</td>\n",
       "      <td>0.08902</td>\n",
       "    </tr>\n",
       "    <tr>\n",
       "      <th>2</th>\n",
       "      <td>19.69</td>\n",
       "      <td>21.25</td>\n",
       "      <td>130.00</td>\n",
       "      <td>1203.0</td>\n",
       "      <td>0.10960</td>\n",
       "      <td>0.15990</td>\n",
       "      <td>0.19740</td>\n",
       "      <td>0.12790</td>\n",
       "      <td>0.2069</td>\n",
       "      <td>0.05999</td>\n",
       "      <td>...</td>\n",
       "      <td>23.570</td>\n",
       "      <td>25.53</td>\n",
       "      <td>152.50</td>\n",
       "      <td>1709.0</td>\n",
       "      <td>0.14440</td>\n",
       "      <td>0.42450</td>\n",
       "      <td>0.4504</td>\n",
       "      <td>0.2430</td>\n",
       "      <td>0.3613</td>\n",
       "      <td>0.08758</td>\n",
       "    </tr>\n",
       "    <tr>\n",
       "      <th>3</th>\n",
       "      <td>11.42</td>\n",
       "      <td>20.38</td>\n",
       "      <td>77.58</td>\n",
       "      <td>386.1</td>\n",
       "      <td>0.14250</td>\n",
       "      <td>0.28390</td>\n",
       "      <td>0.24140</td>\n",
       "      <td>0.10520</td>\n",
       "      <td>0.2597</td>\n",
       "      <td>0.09744</td>\n",
       "      <td>...</td>\n",
       "      <td>14.910</td>\n",
       "      <td>26.50</td>\n",
       "      <td>98.87</td>\n",
       "      <td>567.7</td>\n",
       "      <td>0.20980</td>\n",
       "      <td>0.86630</td>\n",
       "      <td>0.6869</td>\n",
       "      <td>0.2575</td>\n",
       "      <td>0.6638</td>\n",
       "      <td>0.17300</td>\n",
       "    </tr>\n",
       "    <tr>\n",
       "      <th>4</th>\n",
       "      <td>20.29</td>\n",
       "      <td>14.34</td>\n",
       "      <td>135.10</td>\n",
       "      <td>1297.0</td>\n",
       "      <td>0.10030</td>\n",
       "      <td>0.13280</td>\n",
       "      <td>0.19800</td>\n",
       "      <td>0.10430</td>\n",
       "      <td>0.1809</td>\n",
       "      <td>0.05883</td>\n",
       "      <td>...</td>\n",
       "      <td>22.540</td>\n",
       "      <td>16.67</td>\n",
       "      <td>152.20</td>\n",
       "      <td>1575.0</td>\n",
       "      <td>0.13740</td>\n",
       "      <td>0.20500</td>\n",
       "      <td>0.4000</td>\n",
       "      <td>0.1625</td>\n",
       "      <td>0.2364</td>\n",
       "      <td>0.07678</td>\n",
       "    </tr>\n",
       "    <tr>\n",
       "      <th>...</th>\n",
       "      <td>...</td>\n",
       "      <td>...</td>\n",
       "      <td>...</td>\n",
       "      <td>...</td>\n",
       "      <td>...</td>\n",
       "      <td>...</td>\n",
       "      <td>...</td>\n",
       "      <td>...</td>\n",
       "      <td>...</td>\n",
       "      <td>...</td>\n",
       "      <td>...</td>\n",
       "      <td>...</td>\n",
       "      <td>...</td>\n",
       "      <td>...</td>\n",
       "      <td>...</td>\n",
       "      <td>...</td>\n",
       "      <td>...</td>\n",
       "      <td>...</td>\n",
       "      <td>...</td>\n",
       "      <td>...</td>\n",
       "      <td>...</td>\n",
       "    </tr>\n",
       "    <tr>\n",
       "      <th>564</th>\n",
       "      <td>21.56</td>\n",
       "      <td>22.39</td>\n",
       "      <td>142.00</td>\n",
       "      <td>1479.0</td>\n",
       "      <td>0.11100</td>\n",
       "      <td>0.11590</td>\n",
       "      <td>0.24390</td>\n",
       "      <td>0.13890</td>\n",
       "      <td>0.1726</td>\n",
       "      <td>0.05623</td>\n",
       "      <td>...</td>\n",
       "      <td>25.450</td>\n",
       "      <td>26.40</td>\n",
       "      <td>166.10</td>\n",
       "      <td>2027.0</td>\n",
       "      <td>0.14100</td>\n",
       "      <td>0.21130</td>\n",
       "      <td>0.4107</td>\n",
       "      <td>0.2216</td>\n",
       "      <td>0.2060</td>\n",
       "      <td>0.07115</td>\n",
       "    </tr>\n",
       "    <tr>\n",
       "      <th>565</th>\n",
       "      <td>20.13</td>\n",
       "      <td>28.25</td>\n",
       "      <td>131.20</td>\n",
       "      <td>1261.0</td>\n",
       "      <td>0.09780</td>\n",
       "      <td>0.10340</td>\n",
       "      <td>0.14400</td>\n",
       "      <td>0.09791</td>\n",
       "      <td>0.1752</td>\n",
       "      <td>0.05533</td>\n",
       "      <td>...</td>\n",
       "      <td>23.690</td>\n",
       "      <td>38.25</td>\n",
       "      <td>155.00</td>\n",
       "      <td>1731.0</td>\n",
       "      <td>0.11660</td>\n",
       "      <td>0.19220</td>\n",
       "      <td>0.3215</td>\n",
       "      <td>0.1628</td>\n",
       "      <td>0.2572</td>\n",
       "      <td>0.06637</td>\n",
       "    </tr>\n",
       "    <tr>\n",
       "      <th>566</th>\n",
       "      <td>16.60</td>\n",
       "      <td>28.08</td>\n",
       "      <td>108.30</td>\n",
       "      <td>858.1</td>\n",
       "      <td>0.08455</td>\n",
       "      <td>0.10230</td>\n",
       "      <td>0.09251</td>\n",
       "      <td>0.05302</td>\n",
       "      <td>0.1590</td>\n",
       "      <td>0.05648</td>\n",
       "      <td>...</td>\n",
       "      <td>18.980</td>\n",
       "      <td>34.12</td>\n",
       "      <td>126.70</td>\n",
       "      <td>1124.0</td>\n",
       "      <td>0.11390</td>\n",
       "      <td>0.30940</td>\n",
       "      <td>0.3403</td>\n",
       "      <td>0.1418</td>\n",
       "      <td>0.2218</td>\n",
       "      <td>0.07820</td>\n",
       "    </tr>\n",
       "    <tr>\n",
       "      <th>567</th>\n",
       "      <td>20.60</td>\n",
       "      <td>29.33</td>\n",
       "      <td>140.10</td>\n",
       "      <td>1265.0</td>\n",
       "      <td>0.11780</td>\n",
       "      <td>0.27700</td>\n",
       "      <td>0.35140</td>\n",
       "      <td>0.15200</td>\n",
       "      <td>0.2397</td>\n",
       "      <td>0.07016</td>\n",
       "      <td>...</td>\n",
       "      <td>25.740</td>\n",
       "      <td>39.42</td>\n",
       "      <td>184.60</td>\n",
       "      <td>1821.0</td>\n",
       "      <td>0.16500</td>\n",
       "      <td>0.86810</td>\n",
       "      <td>0.9387</td>\n",
       "      <td>0.2650</td>\n",
       "      <td>0.4087</td>\n",
       "      <td>0.12400</td>\n",
       "    </tr>\n",
       "    <tr>\n",
       "      <th>568</th>\n",
       "      <td>7.76</td>\n",
       "      <td>24.54</td>\n",
       "      <td>47.92</td>\n",
       "      <td>181.0</td>\n",
       "      <td>0.05263</td>\n",
       "      <td>0.04362</td>\n",
       "      <td>0.00000</td>\n",
       "      <td>0.00000</td>\n",
       "      <td>0.1587</td>\n",
       "      <td>0.05884</td>\n",
       "      <td>...</td>\n",
       "      <td>9.456</td>\n",
       "      <td>30.37</td>\n",
       "      <td>59.16</td>\n",
       "      <td>268.6</td>\n",
       "      <td>0.08996</td>\n",
       "      <td>0.06444</td>\n",
       "      <td>0.0000</td>\n",
       "      <td>0.0000</td>\n",
       "      <td>0.2871</td>\n",
       "      <td>0.07039</td>\n",
       "    </tr>\n",
       "  </tbody>\n",
       "</table>\n",
       "<p>569 rows × 30 columns</p>\n",
       "</div>"
      ],
      "text/plain": [
       "    mean radius mean texture mean perimeter mean area mean smoothness  \\\n",
       "0         17.99        10.38         122.80    1001.0         0.11840   \n",
       "1         20.57        17.77         132.90    1326.0         0.08474   \n",
       "2         19.69        21.25         130.00    1203.0         0.10960   \n",
       "3         11.42        20.38          77.58     386.1         0.14250   \n",
       "4         20.29        14.34         135.10    1297.0         0.10030   \n",
       "..          ...          ...            ...       ...             ...   \n",
       "564       21.56        22.39         142.00    1479.0         0.11100   \n",
       "565       20.13        28.25         131.20    1261.0         0.09780   \n",
       "566       16.60        28.08         108.30     858.1         0.08455   \n",
       "567       20.60        29.33         140.10    1265.0         0.11780   \n",
       "568        7.76        24.54          47.92     181.0         0.05263   \n",
       "\n",
       "    mean compactness mean concavity mean concave points mean symmetry  \\\n",
       "0            0.27760        0.30010             0.14710        0.2419   \n",
       "1            0.07864        0.08690             0.07017        0.1812   \n",
       "2            0.15990        0.19740             0.12790        0.2069   \n",
       "3            0.28390        0.24140             0.10520        0.2597   \n",
       "4            0.13280        0.19800             0.10430        0.1809   \n",
       "..               ...            ...                 ...           ...   \n",
       "564          0.11590        0.24390             0.13890        0.1726   \n",
       "565          0.10340        0.14400             0.09791        0.1752   \n",
       "566          0.10230        0.09251             0.05302        0.1590   \n",
       "567          0.27700        0.35140             0.15200        0.2397   \n",
       "568          0.04362        0.00000             0.00000        0.1587   \n",
       "\n",
       "    mean fractal dimension  ... worst radius worst texture worst perimeter  \\\n",
       "0                  0.07871  ...       25.380         17.33          184.60   \n",
       "1                  0.05667  ...       24.990         23.41          158.80   \n",
       "2                  0.05999  ...       23.570         25.53          152.50   \n",
       "3                  0.09744  ...       14.910         26.50           98.87   \n",
       "4                  0.05883  ...       22.540         16.67          152.20   \n",
       "..                     ...  ...          ...           ...             ...   \n",
       "564                0.05623  ...       25.450         26.40          166.10   \n",
       "565                0.05533  ...       23.690         38.25          155.00   \n",
       "566                0.05648  ...       18.980         34.12          126.70   \n",
       "567                0.07016  ...       25.740         39.42          184.60   \n",
       "568                0.05884  ...        9.456         30.37           59.16   \n",
       "\n",
       "    worst area worst smoothness worst compactness worst concavity  \\\n",
       "0       2019.0          0.16220           0.66560          0.7119   \n",
       "1       1956.0          0.12380           0.18660          0.2416   \n",
       "2       1709.0          0.14440           0.42450          0.4504   \n",
       "3        567.7          0.20980           0.86630          0.6869   \n",
       "4       1575.0          0.13740           0.20500          0.4000   \n",
       "..         ...              ...               ...             ...   \n",
       "564     2027.0          0.14100           0.21130          0.4107   \n",
       "565     1731.0          0.11660           0.19220          0.3215   \n",
       "566     1124.0          0.11390           0.30940          0.3403   \n",
       "567     1821.0          0.16500           0.86810          0.9387   \n",
       "568      268.6          0.08996           0.06444          0.0000   \n",
       "\n",
       "    worst concave points worst symmetry worst fractal dimension  \n",
       "0                 0.2654         0.4601                 0.11890  \n",
       "1                 0.1860         0.2750                 0.08902  \n",
       "2                 0.2430         0.3613                 0.08758  \n",
       "3                 0.2575         0.6638                 0.17300  \n",
       "4                 0.1625         0.2364                 0.07678  \n",
       "..                   ...            ...                     ...  \n",
       "564               0.2216         0.2060                 0.07115  \n",
       "565               0.1628         0.2572                 0.06637  \n",
       "566               0.1418         0.2218                 0.07820  \n",
       "567               0.2650         0.4087                 0.12400  \n",
       "568               0.0000         0.2871                 0.07039  \n",
       "\n",
       "[569 rows x 30 columns]"
      ]
     },
     "execution_count": 54,
     "metadata": {},
     "output_type": "execute_result"
    }
   ],
   "source": [
    "data = pd.DataFrame(cancer.data, columns=[cancer.feature_names])\n",
    "data"
   ]
  },
  {
   "cell_type": "code",
   "execution_count": 55,
   "id": "91091a2b-0f4a-4b25-b306-bdaca65b19f3",
   "metadata": {},
   "outputs": [],
   "source": [
    "trainX = data.loc[:455,:]\n",
    "trainy = target[:456]\n",
    "testX = data.loc[456:569,:]\n",
    "testy = target[456:569]"
   ]
  },
  {
   "cell_type": "code",
   "execution_count": 56,
   "id": "79a971c9-bbaa-4850-9b3f-86c39df7fd90",
   "metadata": {},
   "outputs": [],
   "source": [
    "#Q1"
   ]
  },
  {
   "cell_type": "code",
   "execution_count": 57,
   "id": "cf7a5b93-0c04-4d96-8cb5-62ab0b5d8540",
   "metadata": {},
   "outputs": [
    {
     "data": {
      "text/plain": [
       "mean radius                 14.233471\n",
       "mean texture                19.015219\n",
       "mean perimeter              92.689671\n",
       "mean area                  663.711623\n",
       "mean smoothness              0.096455\n",
       "mean compactness             0.104931\n",
       "mean concavity               0.091241\n",
       "mean concave points          0.050312\n",
       "mean symmetry                0.182222\n",
       "mean fractal dimension       0.062635\n",
       "radius error                 0.411222\n",
       "texture error                1.202745\n",
       "perimeter error              2.902170\n",
       "area error                  40.890118\n",
       "smoothness error             0.006990\n",
       "compactness error            0.025787\n",
       "concavity error              0.032407\n",
       "concave points error         0.011924\n",
       "symmetry error               0.020931\n",
       "fractal dimension error      0.003806\n",
       "worst radius                16.446974\n",
       "worst texture               25.446557\n",
       "worst perimeter            108.408882\n",
       "worst area                 898.406360\n",
       "worst smoothness             0.132515\n",
       "worst compactness            0.257768\n",
       "worst concavity              0.278021\n",
       "worst concave points         0.117127\n",
       "worst symmetry               0.293921\n",
       "worst fractal dimension      0.083999\n",
       "dtype: float64"
      ]
     },
     "execution_count": 57,
     "metadata": {},
     "output_type": "execute_result"
    }
   ],
   "source": [
    "trainX.mean()"
   ]
  },
  {
   "cell_type": "code",
   "execution_count": 58,
   "id": "1c619f18-2e0c-453e-9788-0891a466a6a5",
   "metadata": {},
   "outputs": [
    {
     "data": {
      "text/plain": [
       "mean radius                 13.698814\n",
       "mean texture                20.397080\n",
       "mean perimeter              89.060973\n",
       "mean area                  619.286726\n",
       "mean smoothness              0.095979\n",
       "mean compactness             0.101961\n",
       "mean concavity               0.078945\n",
       "mean concave points          0.043298\n",
       "mean symmetry                0.176885\n",
       "mean fractal dimension       0.063455\n",
       "radius error                 0.380757\n",
       "texture error                1.273787\n",
       "perimeter error              2.720336\n",
       "area error                  38.105345\n",
       "smoothness error             0.007245\n",
       "compactness error            0.024231\n",
       "concavity error              0.029824\n",
       "concave points error         0.011280\n",
       "symmetry error               0.018975\n",
       "fractal dimension error      0.003750\n",
       "worst radius                15.551761\n",
       "worst texture               26.608053\n",
       "worst perimeter            102.629912\n",
       "worst area                 808.659292\n",
       "worst smoothness             0.131779\n",
       "worst compactness            0.240129\n",
       "worst concavity              0.248651\n",
       "worst concave points         0.104433\n",
       "worst symmetry               0.274556\n",
       "worst fractal dimension      0.083730\n",
       "dtype: float64"
      ]
     },
     "execution_count": 58,
     "metadata": {},
     "output_type": "execute_result"
    }
   ],
   "source": [
    "testX.mean()"
   ]
  },
  {
   "cell_type": "code",
   "execution_count": 59,
   "id": "ed52af51-d159-4688-aace-a21300402fff",
   "metadata": {},
   "outputs": [
    {
     "data": {
      "text/plain": [
       "mean radius                    12.232579\n",
       "mean texture                   16.934023\n",
       "mean perimeter                580.677500\n",
       "mean area                  120715.432238\n",
       "mean smoothness                 0.000187\n",
       "mean compactness                0.002897\n",
       "mean concavity                  0.006515\n",
       "mean concave points             0.001531\n",
       "mean symmetry                   0.000793\n",
       "mean fractal dimension          0.000049\n",
       "radius error                    0.073014\n",
       "texture error                   0.283289\n",
       "perimeter error                 3.897717\n",
       "area error                   1767.301909\n",
       "smoothness error                0.000009\n",
       "compactness error               0.000347\n",
       "concavity error                 0.001024\n",
       "concave points error            0.000039\n",
       "symmetry error                  0.000076\n",
       "fractal dimension error         0.000008\n",
       "worst radius                   23.332313\n",
       "worst texture                  37.077196\n",
       "worst perimeter              1118.820227\n",
       "worst area                 318836.215586\n",
       "worst smoothness                0.000529\n",
       "worst compactness               0.026373\n",
       "worst concavity                 0.044965\n",
       "worst concave points            0.004463\n",
       "worst symmetry                  0.004162\n",
       "worst fractal dimension         0.000339\n",
       "dtype: float64"
      ]
     },
     "execution_count": 59,
     "metadata": {},
     "output_type": "execute_result"
    }
   ],
   "source": [
    "trainX.var()"
   ]
  },
  {
   "cell_type": "code",
   "execution_count": 60,
   "id": "78d3df77-98c8-4476-a2b9-4a5ed1479788",
   "metadata": {},
   "outputs": [
    {
     "data": {
      "text/plain": [
       "mean radius                    13.055681\n",
       "mean texture                   23.477446\n",
       "mean perimeter                624.727684\n",
       "mean area                  136061.542590\n",
       "mean smoothness                 0.000242\n",
       "mean compactness                0.002367\n",
       "mean concavity                  0.005642\n",
       "mean concave points             0.001375\n",
       "mean symmetry                   0.000565\n",
       "mean fractal dimension          0.000054\n",
       "radius error                    0.092636\n",
       "texture error                   0.388374\n",
       "perimeter error                 4.870263\n",
       "area error                   3309.040086\n",
       "smoothness error                0.000009\n",
       "compactness error               0.000216\n",
       "concavity error                 0.000457\n",
       "concave points error            0.000035\n",
       "symmetry error                  0.000035\n",
       "fractal dimension error         0.000004\n",
       "worst radius                   23.034201\n",
       "worst texture                  39.863816\n",
       "worst perimeter              1154.096149\n",
       "worst area                 342207.026007\n",
       "worst smoothness                0.000494\n",
       "worst compactness               0.018148\n",
       "worst concavity                 0.037362\n",
       "worst concave points            0.003653\n",
       "worst symmetry                  0.002202\n",
       "worst fractal dimension         0.000278\n",
       "dtype: float64"
      ]
     },
     "execution_count": 60,
     "metadata": {},
     "output_type": "execute_result"
    }
   ],
   "source": [
    "testX.var()"
   ]
  },
  {
   "cell_type": "code",
   "execution_count": 61,
   "id": "cd2bbadc-7606-48f0-b845-9fb657d059dd",
   "metadata": {},
   "outputs": [],
   "source": [
    "#Q2"
   ]
  },
  {
   "cell_type": "code",
   "execution_count": 62,
   "id": "117e209e-70cc-4a2a-b6e6-bc8eedf06830",
   "metadata": {},
   "outputs": [],
   "source": [
    "from numpy import linalg as LA\n",
    "from sklearn.neighbors import KNeighborsClassifier"
   ]
  },
  {
   "cell_type": "code",
   "execution_count": 63,
   "id": "0f8c5c28-81d3-437b-b5bb-f578ecff218d",
   "metadata": {},
   "outputs": [],
   "source": [
    "N = KNeighborsClassifier(n_neighbors = 5)"
   ]
  },
  {
   "cell_type": "code",
   "execution_count": 64,
   "id": "b63cf724-bfde-48f1-892c-d32969115a82",
   "metadata": {},
   "outputs": [],
   "source": [
    "fit  = N.fit(trainX, trainy)"
   ]
  },
  {
   "cell_type": "code",
   "execution_count": 65,
   "id": "62b31a6b-25c9-43b1-a194-81bc7e72b307",
   "metadata": {},
   "outputs": [],
   "source": [
    "pre = fit.predict(testX)"
   ]
  },
  {
   "cell_type": "code",
   "execution_count": 66,
   "id": "9767a324-86a7-43b7-99c2-1fab890eebca",
   "metadata": {},
   "outputs": [
    {
     "data": {
      "text/plain": [
       "array([ 0,  0,  0,  0,  0,  0,  0,  0,  0,  1,  0,  0,  0,  0,  0,  0,  0,\n",
       "        0,  0,  0,  1,  0,  0,  0,  0,  1,  0,  0,  0,  0,  0,  0,  0,  0,\n",
       "        0,  1,  0,  0,  0,  0,  0,  0,  0,  0,  0,  0,  0,  0,  0,  0,  0,\n",
       "        0,  1,  0,  0,  0,  0,  0,  0,  0,  0,  0,  0,  0,  0,  0,  0,  0,\n",
       "        0,  0,  0,  0,  0,  0,  0,  0,  0,  0,  0,  0, -1,  0,  0,  0,  0,\n",
       "        1,  0,  0,  0,  0,  0,  0,  0,  0,  0,  0,  0,  0,  0,  0,  0,  0,\n",
       "        0,  0,  0,  0,  0,  0,  0,  0,  0,  0,  0])"
      ]
     },
     "execution_count": 66,
     "metadata": {},
     "output_type": "execute_result"
    }
   ],
   "source": [
    "testy - pre"
   ]
  },
  {
   "cell_type": "code",
   "execution_count": 67,
   "id": "4d349423-96c7-4c5c-a2a1-0dd2851ae322",
   "metadata": {},
   "outputs": [
    {
     "data": {
      "text/plain": [
       "0.9380530973451328"
      ]
     },
     "execution_count": 67,
     "metadata": {},
     "output_type": "execute_result"
    }
   ],
   "source": [
    "from sklearn.metrics import accuracy_score\n",
    "accuracy_score(pre, testy)"
   ]
  },
  {
   "cell_type": "code",
   "execution_count": 68,
   "id": "e998c26f-8efd-491d-abe9-c1c2a27fe34f",
   "metadata": {},
   "outputs": [],
   "source": [
    "#Q3 PCA"
   ]
  },
  {
   "cell_type": "code",
   "execution_count": 69,
   "id": "d7ec2ade-a180-47e2-add7-93b7cd8edb03",
   "metadata": {},
   "outputs": [],
   "source": [
    "trainX = trainX.apply(lambda x: (x - x.mean())/x.std())\n",
    "testX = testX.apply(lambda x: (x - x.mean())/x.std())"
   ]
  },
  {
   "cell_type": "code",
   "execution_count": 70,
   "id": "096734b4-a0d0-4ac8-b888-944572715ca7",
   "metadata": {},
   "outputs": [],
   "source": [
    "myPCA = PCA()"
   ]
  },
  {
   "cell_type": "code",
   "execution_count": 71,
   "id": "aa99cac6-5a06-43e4-960a-4d8d1e01f2c2",
   "metadata": {},
   "outputs": [],
   "source": [
    "fit = myPCA.fit(trainX)"
   ]
  },
  {
   "cell_type": "code",
   "execution_count": 72,
   "id": "5be618f8-551d-458e-b25b-67a3b260e4a2",
   "metadata": {},
   "outputs": [],
   "source": [
    "pre = fit.explained_variance_ratio_"
   ]
  },
  {
   "cell_type": "code",
   "execution_count": 73,
   "id": "adc0b71a-ea82-4ad5-8e44-be673a0c8ddd",
   "metadata": {},
   "outputs": [],
   "source": [
    "pre = np.sort(pre)"
   ]
  },
  {
   "cell_type": "code",
   "execution_count": 74,
   "id": "77eef622-fae0-4b71-8bcd-c75b05cdb756",
   "metadata": {},
   "outputs": [],
   "source": [
    "pre = pre[::-1]"
   ]
  },
  {
   "cell_type": "code",
   "execution_count": 75,
   "id": "e070e411-9e7e-4b2e-b5db-f6b9c2f21685",
   "metadata": {},
   "outputs": [
    {
     "data": {
      "text/plain": [
       "array([4.45981985e-01, 1.87606351e-01, 9.84983029e-02, 6.03505687e-02,\n",
       "       5.51406198e-02, 3.94082639e-02, 2.23783105e-02, 1.55466076e-02,\n",
       "       1.39441995e-02, 1.15286807e-02, 1.05066616e-02, 9.30018894e-03,\n",
       "       7.93852445e-03, 5.22224884e-03, 3.14852475e-03, 2.64407412e-03,\n",
       "       2.07484597e-03, 1.84724956e-03, 1.50823794e-03, 1.09390767e-03,\n",
       "       9.81943715e-04, 9.21328374e-04, 6.95425105e-04, 6.25154411e-04,\n",
       "       5.35838793e-04, 2.62319018e-04, 2.24211948e-04, 5.35753915e-05,\n",
       "       2.73557702e-05, 4.49354223e-06])"
      ]
     },
     "execution_count": 75,
     "metadata": {},
     "output_type": "execute_result"
    }
   ],
   "source": [
    "pre"
   ]
  },
  {
   "cell_type": "code",
   "execution_count": 76,
   "id": "60fd247a-5c22-4c48-9e51-0ab2eb84878c",
   "metadata": {},
   "outputs": [],
   "source": [
    "#Q3"
   ]
  },
  {
   "cell_type": "code",
   "execution_count": 77,
   "id": "3b699d5b-7407-412a-aa8c-a97824dba44d",
   "metadata": {},
   "outputs": [
    {
     "name": "stdout",
     "output_type": "stream",
     "text": [
      "i =  0 , 0.4459819849343292\n",
      "i =  1 , 0.1876063514612762\n",
      "i =  2 , 0.09849830291838003\n",
      "i =  3 , 0.06035056871428273\n",
      "i =  4 , 0.05514061980018471\n",
      "i =  5 , 0.039408263916205305\n",
      "i =  6 , 0.022378310504897244\n",
      "7\n",
      "sum  0.9093644022495554\n"
     ]
    }
   ],
   "source": [
    "sum = 0\n",
    "for i in range(len(pre)):\n",
    "    if(sum < 0.9):\n",
    "        sum += pre[i]\n",
    "        print(\"i = \",i,\",\", pre[i])\n",
    "    else:\n",
    "        print(i)\n",
    "        print(\"sum \", sum)\n",
    "        break"
   ]
  },
  {
   "cell_type": "code",
   "execution_count": 78,
   "id": "dfaccccf-b0f0-44cc-a764-06e34352a1af",
   "metadata": {},
   "outputs": [
    {
     "data": {
      "text/plain": [
       "[<matplotlib.lines.Line2D at 0x13c941c70>]"
      ]
     },
     "execution_count": 78,
     "metadata": {},
     "output_type": "execute_result"
    },
    {
     "data": {
      "image/png": "[encoded data removed]",
      "text/plain": [
       "<Figure size 640x480 with 1 Axes>"
      ]
     },
     "metadata": {},
     "output_type": "display_data"
    }
   ],
   "source": [
    "plt.plot(range(1,31),np.cumsum(pre))"
   ]
  },
  {
   "cell_type": "code",
   "execution_count": null,
   "id": "0abbe837-95a4-43fb-8c84-0ee9ca30bd6f",
   "metadata": {},
   "outputs": [],
   "source": []
  }
 ],
 "metadata": {
  "kernelspec": {
   "display_name": "Python 3",
   "language": "python",
   "name": "python3"
  },
  "language_info": {
   "codemirror_mode": {
    "name": "ipython",
    "version": 3
   },
   "file_extension": ".py",
   "mimetype": "text/x-python",
   "name": "python",
   "nbconvert_exporter": "python",
   "pygments_lexer": "ipython3",
   "version": "3.11.6"
  }
 },
 "nbformat": 4,
 "nbformat_minor": 5
}

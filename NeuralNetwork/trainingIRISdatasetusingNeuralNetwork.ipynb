{
 "cells": [
  {
   "cell_type": "markdown",
   "id": "291974d8-8a83-43b6-bf17-2a97bb66e08f",
   "metadata": {},
   "source": [
    "**Question:** Can a neural network learn the function $f(x,y) = x^2 + y^2$ by imitating the book's implementation of a neural network build on pytorch?   (See pages 395-407.)"
   ]
  },
  {
   "cell_type": "markdown",
   "id": "ab668eb7-09f2-4e4e-b97b-eaab25b3ff75",
   "metadata": {
    "jp-MarkdownHeadingCollapsed": true
   },
   "source": [
    "\n",
    "## Building a multilayer perceptron for classifying flowers in the Iris dataset"
   ]
  },
  {
   "cell_type": "code",
   "execution_count": 6,
   "id": "982fde20-7c20-4622-9444-8067bc313c94",
   "metadata": {},
   "outputs": [],
   "source": [
    "import matplotlib.pyplot as plt\n",
    "import numpy as np\n",
    "import torch\n",
    "import torch.nn as nn"
   ]
  },
  {
   "cell_type": "code",
   "execution_count": 3,
   "id": "7f7739c6-dc84-4183-94d2-4749a8b519b7",
   "metadata": {},
   "outputs": [],
   "source": [
    "from sklearn.datasets import load_iris\n",
    "from sklearn.model_selection import train_test_split \n",
    "\n",
    "iris = load_iris()\n",
    "X = iris['data']\n",
    "y = iris['target']\n",
    " \n",
    "X_train, X_test, y_train, y_test = train_test_split(\n",
    "    X, y, test_size=1./3, random_state=1)"
   ]
  },
  {
   "cell_type": "code",
   "execution_count": 4,
   "id": "3dddbfa6-2af5-4fda-a480-e113180f5427",
   "metadata": {},
   "outputs": [],
   "source": [
    "from torch.utils.data import TensorDataset\n",
    "from torch.utils.data import DataLoader\n",
    "\n",
    "X_train_norm = (X_train - np.mean(X_train)) / np.std(X_train)\n",
    "X_train_norm = torch.from_numpy(X_train_norm).float()\n",
    "y_train = torch.from_numpy(y_train) \n",
    "\n",
    "train_ds = TensorDataset(X_train_norm, y_train)\n",
    "\n",
    "torch.manual_seed(1)\n",
    "batch_size = 2\n",
    "train_dl = DataLoader(train_ds, batch_size, shuffle=True)"
   ]
  },
  {
   "cell_type": "code",
   "execution_count": 7,
   "id": "84c75770-1e69-4e53-8c73-12c3da14f080",
   "metadata": {},
   "outputs": [],
   "source": [
    "class Model(nn.Module):\n",
    "    def __init__(self, input_size, hidden_size, output_size):\n",
    "        super().__init__()\n",
    "        self.layer1 = nn.Linear(input_size, hidden_size)  \n",
    "        self.layer2 = nn.Linear(hidden_size, output_size)  \n",
    "\n",
    "    def forward(self, x):\n",
    "        x = self.layer1(x)\n",
    "        x = nn.Sigmoid()(x)\n",
    "        x = self.layer2(x)\n",
    "        x = nn.Softmax(dim=1)(x)\n",
    "        return x\n",
    "    \n",
    "input_size = X_train_norm.shape[1]\n",
    "hidden_size = 16\n",
    "output_size = 3\n",
    " \n",
    "model = Model(input_size, hidden_size, output_size)\n",
    "\n",
    "learning_rate = 0.001\n",
    "\n",
    "loss_fn = nn.CrossEntropyLoss()\n",
    " \n",
    "optimizer = torch.optim.Adam(model.parameters(), lr=learning_rate)\n"
   ]
  },
  {
   "cell_type": "code",
   "execution_count": 8,
   "id": "3bd68ad9-6b8e-4f24-a52e-961216bb8742",
   "metadata": {},
   "outputs": [],
   "source": [
    "num_epochs = 100\n",
    "loss_hist = [0] * num_epochs\n",
    "accuracy_hist = [0] * num_epochs\n",
    "\n",
    "for epoch in range(num_epochs):\n",
    "\n",
    "    for x_batch, y_batch in train_dl:\n",
    "        pred = model(x_batch)\n",
    "        loss = loss_fn(pred, y_batch.long())\n",
    "        loss.backward()\n",
    "        optimizer.step()\n",
    "        optimizer.zero_grad()\n",
    "    \n",
    "        loss_hist[epoch] += loss.item()*y_batch.size(0)\n",
    "        is_correct = (torch.argmax(pred, dim=1) == y_batch).float()\n",
    "        accuracy_hist[epoch] += is_correct.sum()\n",
    "        \n",
    "    loss_hist[epoch] /= len(train_dl.dataset)\n",
    "    accuracy_hist[epoch] /= len(train_dl.dataset)"
   ]
  },
  {
   "cell_type": "code",
   "execution_count": 9,
   "id": "e52b087a-7dd9-4fb2-8452-2d7024f5852d",
   "metadata": {},
   "outputs": [
    {
     "data": {
      "image/png": "[encoded data removed]",
      "text/plain": [
       "<Figure size 864x360 with 2 Axes>"
      ]
     },
     "metadata": {
      "needs_background": "light"
     },
     "output_type": "display_data"
    }
   ],
   "source": [
    "fig = plt.figure(figsize=(12, 5))\n",
    "ax = fig.add_subplot(1, 2, 1)\n",
    "ax.plot(loss_hist, lw=3)\n",
    "ax.set_title('Training loss', size=15)\n",
    "ax.set_xlabel('Epoch', size=15)\n",
    "ax.tick_params(axis='both', which='major', labelsize=15)\n",
    "\n",
    "ax = fig.add_subplot(1, 2, 2)\n",
    "ax.plot(accuracy_hist, lw=3)\n",
    "ax.set_title('Training accuracy', size=15)\n",
    "ax.set_xlabel('Epoch', size=15)\n",
    "ax.tick_params(axis='both', which='major', labelsize=15)\n",
    "plt.tight_layout()\n",
    "\n",
    "#plt.savefig('figures/12_09.pdf')\n",
    " \n",
    "plt.show()"
   ]
  },
  {
   "cell_type": "markdown",
   "id": "471f6e8f-0506-49a7-889a-a00481a454ea",
   "metadata": {},
   "source": [
    "### Evaluating the trained model on the test dataset"
   ]
  },
  {
   "cell_type": "code",
   "execution_count": 16,
   "id": "2a2389cd-ed53-4067-85fe-301a794dfa47",
   "metadata": {},
   "outputs": [
    {
     "name": "stdout",
     "output_type": "stream",
     "text": [
      "Test Acc.: 0.9800\n"
     ]
    }
   ],
   "source": [
    "X_test_norm = (X_test - np.mean(X_train)) / np.std(X_train)\n",
    "X_test_norm = torch.from_numpy(X_test_norm).float()\n",
    "y_test = torch.from_numpy(y_test) \n",
    "pred_test = model(X_test_norm)\n",
    "\n",
    "correct = (torch.argmax(pred_test, dim=1) == y_test).float()\n",
    "accuracy = correct.mean()\n",
    " \n",
    "print(f'Test Acc.: {accuracy:.4f}')\n"
   ]
  },
  {
   "cell_type": "markdown",
   "id": "d3c19840-d416-4927-a734-9cfe06d2f154",
   "metadata": {},
   "source": [
    "### Saving and reloading the trained model"
   ]
  },
  {
   "cell_type": "code",
   "execution_count": 17,
   "id": "c0d81311-b489-41f0-be1d-06633489c97e",
   "metadata": {},
   "outputs": [],
   "source": [
    "path = 'iris_classifier.pt'\n",
    "torch.save(model, path)"
   ]
  },
  {
   "cell_type": "code",
   "execution_count": 18,
   "id": "70cd433b-0abf-4633-8622-8b94f1d9f258",
   "metadata": {},
   "outputs": [
    {
     "data": {
      "text/plain": [
       "Model(\n",
       "  (layer1): Linear(in_features=4, out_features=16, bias=True)\n",
       "  (layer2): Linear(in_features=16, out_features=3, bias=True)\n",
       ")"
      ]
     },
     "execution_count": 18,
     "metadata": {},
     "output_type": "execute_result"
    }
   ],
   "source": [
    "model_new = torch.load(path)\n",
    "model_new.eval()"
   ]
  },
  {
   "cell_type": "code",
   "execution_count": 19,
   "id": "c54350f9-e5c5-40bf-87b9-b14a44c064b4",
   "metadata": {},
   "outputs": [
    {
     "name": "stdout",
     "output_type": "stream",
     "text": [
      "Test Acc.: 0.9800\n"
     ]
    }
   ],
   "source": [
    "pred_test = model_new(X_test_norm)\n",
    "\n",
    "correct = (torch.argmax(pred_test, dim=1) == y_test).float()\n",
    "accuracy = correct.mean()\n",
    " \n",
    "print(f'Test Acc.: {accuracy:.4f}')"
   ]
  },
  {
   "cell_type": "code",
   "execution_count": 20,
   "id": "44afcfdf-9a99-4509-92a8-f5f4adfc4689",
   "metadata": {},
   "outputs": [],
   "source": [
    "path = 'iris_classifier_state.pt'\n",
    "torch.save(model.state_dict(), path)"
   ]
  },
  {
   "cell_type": "code",
   "execution_count": 21,
   "id": "3e911f98-d865-4939-95af-82a2877c068a",
   "metadata": {},
   "outputs": [
    {
     "data": {
      "text/plain": [
       "<All keys matched successfully>"
      ]
     },
     "execution_count": 21,
     "metadata": {},
     "output_type": "execute_result"
    }
   ],
   "source": [
    "model_new = Model(input_size, hidden_size, output_size)\n",
    "model_new.load_state_dict(torch.load(path))\n"
   ]
  },
  {
   "cell_type": "markdown",
   "id": "dfff1120-084b-412b-ac75-23a0f32528b6",
   "metadata": {
    "jp-MarkdownHeadingCollapsed": true
   },
   "source": [
    "## Choosing activation functions for multilayer neural networks ##\n",
    "\n"
   ]
  },
  {
   "cell_type": "markdown",
   "id": "abbaa482-910c-4b76-9f0f-20714eb14a20",
   "metadata": {},
   "source": [
    "### Logistic function recap"
   ]
  },
  {
   "cell_type": "code",
   "execution_count": 22,
   "id": "81e41e29-d691-41ee-bd9e-d2d045441b2f",
   "metadata": {},
   "outputs": [
    {
     "name": "stdout",
     "output_type": "stream",
     "text": [
      "P(y=1|x) = 0.888\n"
     ]
    }
   ],
   "source": [
    "import numpy as np\n",
    "\n",
    "X = np.array([1, 1.4, 2.5]) ## first value must be 1\n",
    "w = np.array([0.4, 0.3, 0.5])\n",
    "\n",
    "def net_input(X, w):\n",
    "    return np.dot(X, w)\n",
    "\n",
    "def logistic(z):\n",
    "    return 1.0 / (1.0 + np.exp(-z))\n",
    "\n",
    "def logistic_activation(X, w):\n",
    "    z = net_input(X, w)\n",
    "    return logistic(z)\n",
    "\n",
    "print(f'P(y=1|x) = {logistic_activation(X, w):.3f}') "
   ]
  },
  {
   "cell_type": "code",
   "execution_count": 23,
   "id": "0e4a3860-ed0a-4fea-9871-5de05e2e265c",
   "metadata": {},
   "outputs": [
    {
     "name": "stdout",
     "output_type": "stream",
     "text": [
      "Net Input: \n",
      " [1.78 0.76 1.65]\n",
      "Output Units:\n",
      " [0.85569687 0.68135373 0.83889105]\n"
     ]
    }
   ],
   "source": [
    "# W : array with shape = (n_output_units, n_hidden_units+1)\n",
    "# note that the first column are the bias units\n",
    "\n",
    "W = np.array([[1.1, 1.2, 0.8, 0.4],\n",
    "              [0.2, 0.4, 1.0, 0.2],\n",
    "              [0.6, 1.5, 1.2, 0.7]])\n",
    "\n",
    "# A : data array with shape = (n_hidden_units + 1, n_samples)\n",
    "# note that the first column of this array must be 1\n",
    "\n",
    "A = np.array([[1, 0.1, 0.4, 0.6]])\n",
    "Z = np.dot(W, A[0])\n",
    "y_probas = logistic(Z)\n",
    "print('Net Input: \\n', Z)\n",
    "\n",
    "print('Output Units:\\n', y_probas) "
   ]
  },
  {
   "cell_type": "code",
   "execution_count": 24,
   "id": "b59738d1-e503-4c57-97fc-a7defea36bcf",
   "metadata": {},
   "outputs": [
    {
     "name": "stdout",
     "output_type": "stream",
     "text": [
      "Predicted class label: 0\n"
     ]
    }
   ],
   "source": [
    "y_class = np.argmax(Z, axis=0)\n",
    "print('Predicted class label:', y_class) "
   ]
  },
  {
   "cell_type": "markdown",
   "id": "14165d9b-09e4-474b-a726-01d2e48299ec",
   "metadata": {},
   "source": [
    "### Estimating class probabilities in multiclass classification via the softmax function"
   ]
  },
  {
   "cell_type": "code",
   "execution_count": 25,
   "id": "4b9b9821-8c47-4a4e-b3ee-0e4c1699ea7d",
   "metadata": {},
   "outputs": [
    {
     "name": "stdout",
     "output_type": "stream",
     "text": [
      "Probabilities:\n",
      " [0.44668973 0.16107406 0.39223621]\n"
     ]
    },
    {
     "data": {
      "text/plain": [
       "1.0"
      ]
     },
     "execution_count": 25,
     "metadata": {},
     "output_type": "execute_result"
    }
   ],
   "source": [
    "def softmax(z):\n",
    "    return np.exp(z) / np.sum(np.exp(z))\n",
    "\n",
    "y_probas = softmax(Z)\n",
    "print('Probabilities:\\n', y_probas)\n",
    "\n",
    "np.sum(y_probas)"
   ]
  },
  {
   "cell_type": "code",
   "execution_count": 26,
   "id": "c8aea074-e660-4239-b309-5e3c9c77e8d4",
   "metadata": {},
   "outputs": [
    {
     "data": {
      "text/plain": [
       "tensor([0.4467, 0.1611, 0.3922], dtype=torch.float64)"
      ]
     },
     "execution_count": 26,
     "metadata": {},
     "output_type": "execute_result"
    }
   ],
   "source": [
    "torch.softmax(torch.from_numpy(Z), dim=0)"
   ]
  },
  {
   "cell_type": "markdown",
   "id": "7be9dc06-93db-477d-a5b7-beb143479e04",
   "metadata": {},
   "source": [
    "### Broadening the output spectrum using a hyperbolic tangent"
   ]
  },
  {
   "cell_type": "code",
   "execution_count": 27,
   "id": "d55b5661-a8a8-482d-acbc-9cf879fb4555",
   "metadata": {},
   "outputs": [
    {
     "data": {
      "image/png": "[encoded data removed]",
      "text/plain": [
       "<Figure size 432x288 with 1 Axes>"
      ]
     },
     "metadata": {
      "needs_background": "light"
     },
     "output_type": "display_data"
    }
   ],
   "source": [
    "import matplotlib.pyplot as plt\n",
    "%matplotlib inline\n",
    "\n",
    "def tanh(z):\n",
    "    e_p = np.exp(z)\n",
    "    e_m = np.exp(-z)\n",
    "    return (e_p - e_m) / (e_p + e_m)\n",
    "\n",
    "z = np.arange(-5, 5, 0.005)\n",
    "log_act = logistic(z)\n",
    "tanh_act = tanh(z)\n",
    "plt.ylim([-1.5, 1.5])\n",
    "plt.xlabel('Net input $z$')\n",
    "plt.ylabel('Activation $\\phi(z)$')\n",
    "plt.axhline(1, color='black', linestyle=':')\n",
    "plt.axhline(0.5, color='black', linestyle=':')\n",
    "plt.axhline(0, color='black', linestyle=':')\n",
    "plt.axhline(-0.5, color='black', linestyle=':')\n",
    "plt.axhline(-1, color='black', linestyle=':')\n",
    "plt.plot(z, tanh_act,\n",
    "    linewidth=3, linestyle='--',\n",
    "    label='Tanh')\n",
    "plt.plot(z, log_act,\n",
    "    linewidth=3,\n",
    "    label='Logistic')\n",
    "plt.legend(loc='lower right')\n",
    "plt.tight_layout()\n",
    "\n",
    "#plt.savefig('figures/12_10.pdf')\n",
    "plt.show()"
   ]
  },
  {
   "cell_type": "code",
   "execution_count": 28,
   "id": "d720354c-3ad9-4458-9f80-55b5bcf227f9",
   "metadata": {},
   "outputs": [
    {
     "data": {
      "text/plain": [
       "array([-0.9999092 , -0.99990829, -0.99990737, ...,  0.99990644,\n",
       "        0.99990737,  0.99990829])"
      ]
     },
     "execution_count": 28,
     "metadata": {},
     "output_type": "execute_result"
    }
   ],
   "source": [
    "np.tanh(z)"
   ]
  },
  {
   "cell_type": "code",
   "execution_count": 29,
   "id": "79aefee4-5c56-4d2c-9a8b-1df5d8525e08",
   "metadata": {},
   "outputs": [
    {
     "data": {
      "text/plain": [
       "tensor([-0.9999, -0.9999, -0.9999,  ...,  0.9999,  0.9999,  0.9999],\n",
       "       dtype=torch.float64)"
      ]
     },
     "execution_count": 29,
     "metadata": {},
     "output_type": "execute_result"
    }
   ],
   "source": [
    "torch.tanh(torch.from_numpy(z))\n",
    " "
   ]
  },
  {
   "cell_type": "code",
   "execution_count": 30,
   "id": "a9cb06d8-da3c-431b-b2b2-e116ddb361e9",
   "metadata": {},
   "outputs": [
    {
     "data": {
      "text/plain": [
       "array([0.00669285, 0.00672617, 0.00675966, ..., 0.99320669, 0.99324034,\n",
       "       0.99327383])"
      ]
     },
     "execution_count": 30,
     "metadata": {},
     "output_type": "execute_result"
    }
   ],
   "source": [
    "from scipy.special import expit\n",
    "\n",
    "expit(z)"
   ]
  },
  {
   "cell_type": "code",
   "execution_count": 31,
   "id": "9431d984-cc2d-48fa-92fb-a9b98c92ebd3",
   "metadata": {},
   "outputs": [
    {
     "data": {
      "text/plain": [
       "tensor([0.0067, 0.0067, 0.0068,  ..., 0.9932, 0.9932, 0.9933],\n",
       "       dtype=torch.float64)"
      ]
     },
     "execution_count": 31,
     "metadata": {},
     "output_type": "execute_result"
    }
   ],
   "source": [
    "torch.sigmoid(torch.from_numpy(z))"
   ]
  },
  {
   "cell_type": "markdown",
   "id": "11066613-c332-4a85-92ed-4f846db23249",
   "metadata": {},
   "source": [
    "### Rectified linear unit activation"
   ]
  },
  {
   "cell_type": "code",
   "execution_count": 32,
   "id": "0080157d-8ee7-44e6-8536-db294fd4c492",
   "metadata": {},
   "outputs": [
    {
     "data": {
      "text/plain": [
       "tensor([0.0000, 0.0000, 0.0000,  ..., 4.9850, 4.9900, 4.9950],\n",
       "       dtype=torch.float64)"
      ]
     },
     "execution_count": 32,
     "metadata": {},
     "output_type": "execute_result"
    }
   ],
   "source": [
    "torch.relu(torch.from_numpy(z))"
   ]
  },
  {
   "cell_type": "markdown",
   "id": "e175a18b-6c2b-4c34-9dfa-e36c4b012496",
   "metadata": {},
   "source": [
    "## Generating the data and preparing it for loading ##"
   ]
  },
  {
   "cell_type": "code",
   "execution_count": 10,
   "id": "30c55466-3182-41b0-9499-d342c9edf10b",
   "metadata": {},
   "outputs": [],
   "source": [
    "tempX = np.random.uniform(-1,1,2000)\n",
    "tempY = np.random.uniform(-1,1,2000)"
   ]
  },
  {
   "cell_type": "code",
   "execution_count": 11,
   "id": "f82d5839-2185-4729-8e9e-94e018b2c5f5",
   "metadata": {},
   "outputs": [],
   "source": [
    "myX = np.array([tempX, tempY]).T"
   ]
  },
  {
   "cell_type": "code",
   "execution_count": 12,
   "id": "f9ac1bb9-551c-4315-8281-d159038ff865",
   "metadata": {},
   "outputs": [
    {
     "data": {
      "text/plain": [
       "array([[ 0.63888453,  0.5134381 ],\n",
       "       [ 0.54218392, -0.0463582 ],\n",
       "       [ 0.56546269,  0.4160673 ],\n",
       "       [ 0.74693125,  0.69202881],\n",
       "       [-0.69187552, -0.22244369]])"
      ]
     },
     "execution_count": 12,
     "metadata": {},
     "output_type": "execute_result"
    }
   ],
   "source": [
    "myX[:5]"
   ]
  },
  {
   "cell_type": "code",
   "execution_count": 13,
   "id": "e7f35967-a7e7-4bff-92b8-c5fa7e87b17d",
   "metadata": {},
   "outputs": [],
   "source": [
    "def myfunc(X):\n",
    "    \n",
    "    return X[:,0]**2 + X[:,1]**2"
   ]
  },
  {
   "cell_type": "code",
   "execution_count": 14,
   "id": "a548722a-b820-4af9-b335-8ae932f16475",
   "metadata": {},
   "outputs": [],
   "source": [
    "myy = myfunc(myX)"
   ]
  },
  {
   "cell_type": "code",
   "execution_count": 15,
   "id": "22707963-8862-40e9-b0c6-bee9399f64eb",
   "metadata": {},
   "outputs": [
    {
     "data": {
      "text/plain": [
       "array([0.67179212, 0.29611248, 0.49286005, 1.03681017, 0.52817293])"
      ]
     },
     "execution_count": 15,
     "metadata": {},
     "output_type": "execute_result"
    }
   ],
   "source": [
    "myy[:5]"
   ]
  },
  {
   "cell_type": "code",
   "execution_count": 16,
   "id": "b0320f4b-6de8-4418-ba3f-b43d378054c9",
   "metadata": {},
   "outputs": [
    {
     "data": {
      "image/png": "[encoded data removed]",
      "text/plain": [
       "<Figure size 432x288 with 1 Axes>"
      ]
     },
     "metadata": {
      "needs_background": "light"
     },
     "output_type": "display_data"
    }
   ],
   "source": [
    "fig = plt.figure()\n",
    "ax = fig.add_subplot(projection='3d')\n",
    "ax.scatter(myX[:,0], myX[:,1], myy)\n",
    "plt.show()"
   ]
  },
  {
   "cell_type": "code",
   "execution_count": 17,
   "id": "fc7ba455-4778-4f9e-bfe9-355ac1763706",
   "metadata": {},
   "outputs": [],
   "source": [
    "myXtensor = torch.from_numpy(myX)"
   ]
  },
  {
   "cell_type": "code",
   "execution_count": 18,
   "id": "544bbafd-9255-480a-ae35-3b403b83a369",
   "metadata": {},
   "outputs": [
    {
     "data": {
      "text/plain": [
       "-1"
      ]
     },
     "execution_count": 18,
     "metadata": {},
     "output_type": "execute_result"
    }
   ],
   "source": [
    "myXtensor.get_device()"
   ]
  },
  {
   "cell_type": "code",
   "execution_count": 19,
   "id": "7142c901-fb3d-4edd-8b8c-5f9784e3a72d",
   "metadata": {},
   "outputs": [
    {
     "data": {
      "text/plain": [
       "tensor([[ 0.6389,  0.5134],\n",
       "        [ 0.5422, -0.0464],\n",
       "        [ 0.5655,  0.4161],\n",
       "        [ 0.7469,  0.6920],\n",
       "        [-0.6919, -0.2224]], dtype=torch.float64)"
      ]
     },
     "execution_count": 19,
     "metadata": {},
     "output_type": "execute_result"
    }
   ],
   "source": [
    "myXtensor[:5]"
   ]
  },
  {
   "cell_type": "code",
   "execution_count": 20,
   "id": "776c60ed-17a9-484c-b0eb-012cb1ac5982",
   "metadata": {},
   "outputs": [],
   "source": [
    "# myXtensor = myXtensor.to(torch.float32)"
   ]
  },
  {
   "cell_type": "code",
   "execution_count": 21,
   "id": "89b07c87-1d47-4877-8017-9d3c89fe8e81",
   "metadata": {},
   "outputs": [
    {
     "data": {
      "text/plain": [
       "tensor([[ 0.6389,  0.5134],\n",
       "        [ 0.5422, -0.0464],\n",
       "        [ 0.5655,  0.4161],\n",
       "        [ 0.7469,  0.6920],\n",
       "        [-0.6919, -0.2224]], dtype=torch.float64)"
      ]
     },
     "execution_count": 21,
     "metadata": {},
     "output_type": "execute_result"
    }
   ],
   "source": [
    "myXtensor[:5]"
   ]
  },
  {
   "cell_type": "code",
   "execution_count": 22,
   "id": "97f64268-8544-42fc-99ad-f678ecb0ccb5",
   "metadata": {},
   "outputs": [
    {
     "data": {
      "text/plain": [
       "torch.Size([2000, 2])"
      ]
     },
     "execution_count": 22,
     "metadata": {},
     "output_type": "execute_result"
    }
   ],
   "source": [
    "myXtensor.shape"
   ]
  },
  {
   "cell_type": "code",
   "execution_count": 23,
   "id": "f7e255c7-3a52-4820-8c0a-98d998a66676",
   "metadata": {},
   "outputs": [],
   "source": [
    "myytensor = torch.from_numpy(myy)\n",
    "# myytensor = myytensor.to(torch.float32)"
   ]
  },
  {
   "cell_type": "code",
   "execution_count": 24,
   "id": "b47a5332-68ad-4bdc-a237-a20aae2b1075",
   "metadata": {},
   "outputs": [
    {
     "data": {
      "text/plain": [
       "tensor([0.6718, 0.2961, 0.4929, 1.0368, 0.5282], dtype=torch.float64)"
      ]
     },
     "execution_count": 24,
     "metadata": {},
     "output_type": "execute_result"
    }
   ],
   "source": [
    "myytensor[:5]"
   ]
  },
  {
   "cell_type": "code",
   "execution_count": 25,
   "id": "341e3f27-7a2f-42e6-bda6-a9107d217bb1",
   "metadata": {},
   "outputs": [
    {
     "data": {
      "text/plain": [
       "torch.Size([2000])"
      ]
     },
     "execution_count": 25,
     "metadata": {},
     "output_type": "execute_result"
    }
   ],
   "source": [
    "myytensor.shape"
   ]
  },
  {
   "cell_type": "code",
   "execution_count": 26,
   "id": "60759fcb-8ff8-4e68-87e8-ba4a6066f162",
   "metadata": {},
   "outputs": [
    {
     "data": {
      "text/plain": [
       "torch.float64"
      ]
     },
     "execution_count": 26,
     "metadata": {},
     "output_type": "execute_result"
    }
   ],
   "source": [
    "myytensor.dtype"
   ]
  },
  {
   "cell_type": "code",
   "execution_count": 27,
   "id": "1fb5b205-b89f-47c7-8c94-494f5f5337a2",
   "metadata": {},
   "outputs": [],
   "source": [
    "train_ds = torch.utils.data.TensorDataset(myXtensor, myytensor)"
   ]
  },
  {
   "cell_type": "code",
   "execution_count": 28,
   "id": "56df8493-8871-47cf-829b-01d112679f03",
   "metadata": {},
   "outputs": [],
   "source": [
    "batch_size = 2"
   ]
  },
  {
   "cell_type": "code",
   "execution_count": 29,
   "id": "9918634e-464e-41da-b8a0-5aa18c205570",
   "metadata": {},
   "outputs": [],
   "source": [
    "train_dl = torch.utils.data.DataLoader(train_ds, batch_size, shuffle=True)"
   ]
  },
  {
   "cell_type": "markdown",
   "id": "a0d5270a-dfdb-4046-898c-f41ebcd39606",
   "metadata": {},
   "source": [
    "## Modifying the Model class ##\n",
    "\n",
    "What do we have to do to the textbook's 'Model' (inherited from pytorch's \"nn.Module\" class) on pages 395-407 to make it work for learning the function $f(x,y) = x^2 + y^2$?  Some things to consider:\n",
    "\n",
    "+ Use MSELoss (because it's continuous, not categorical, data)\n",
    "+ Use ReLU instead of Sigmoid (see p. 405)\n",
    "+ Use Adam instead of SGD\n",
    "+ Increase the number of layers and their sizes\n",
    "\n",
    "Also, I added a 'print' statement at the end of each epoch to show me what the loss function was for the latest batch."
   ]
  },
  {
   "cell_type": "code",
   "execution_count": null,
   "id": "96b7d019-4b8f-485a-9962-fd0040150644",
   "metadata": {},
   "outputs": [],
   "source": [
    "class Model(nn.Module):\n",
    "    def __init__(self, input_size, hidden_size, output_size):\n",
    "        super().__init__()\n",
    "        self.layer1 = nn.Linear(input_size, hidden_size)  \n",
    "        self.layer2 = nn.Linear(hidden_size, output_size)  \n",
    "\n",
    "    def forward(self, x):\n",
    "        x = self.layer1(x)\n",
    "        x = nn.ReLU()(x)\n",
    "        x = self.layer2(x)\n",
    "        return x\n",
    "    \n",
    "input_size = 2\n",
    "hidden_size = 16\n",
    "output_size = 1\n",
    " \n",
    "model = Model(input_size, hidden_size, output_size)\n",
    "\n",
    "learning_rate = 0.001\n",
    "\n",
    "loss_fn = nn.MSELoss()\n",
    " \n",
    "optimizer = torch.optim.Adam(model.parameters(), lr=learning_rate)\n"
   ]
  },
  {
   "cell_type": "markdown",
   "id": "9e9d5704-edc4-4f27-b841-d1683eedccbf",
   "metadata": {},
   "source": [
    "## An Attempt At Training a Revised Model ##\n",
    "\n",
    "We want the loss function to (more-or-less) continually decrease.  That doesn't seem to be happening. Sigh."
   ]
  },
  {
   "cell_type": "code",
   "execution_count": 35,
   "id": "ee1b9aab-8cc3-41e2-82f6-e81aad3cff2a",
   "metadata": {},
   "outputs": [
    {
     "name": "stdout",
     "output_type": "stream",
     "text": [
      "Epoch  0  with loss  0.13112948834896088\n",
      "Epoch  1  with loss  0.13169074058532715\n",
      "Epoch  2  with loss  0.021666256710886955\n",
      "Epoch  3  with loss  0.08764585852622986\n",
      "Epoch  4  with loss  0.017130084335803986\n",
      "Epoch  5  with loss  0.0723077654838562\n",
      "Epoch  6  with loss  0.014540600590407848\n",
      "Epoch  7  with loss  0.08606275171041489\n",
      "Epoch  8  with loss  0.12630820274353027\n",
      "Epoch  9  with loss  0.13486263155937195\n",
      "Epoch  10  with loss  0.018419839441776276\n",
      "Epoch  11  with loss  0.3339717388153076\n",
      "Epoch  12  with loss  0.07888242602348328\n",
      "Epoch  13  with loss  0.01466606929898262\n",
      "Epoch  14  with loss  0.04055489972233772\n",
      "Epoch  15  with loss  0.20079202950000763\n",
      "Epoch  16  with loss  0.10241777449846268\n",
      "Epoch  17  with loss  0.0057434942573308945\n",
      "Epoch  18  with loss  0.1782321333885193\n",
      "Epoch  19  with loss  0.029155248776078224\n",
      "Epoch  20  with loss  0.0995849147439003\n",
      "Epoch  21  with loss  0.3295959532260895\n",
      "Epoch  22  with loss  0.15069924294948578\n",
      "Epoch  23  with loss  0.27335572242736816\n",
      "Epoch  24  with loss  0.09302757680416107\n",
      "Epoch  25  with loss  0.005966545548290014\n",
      "Epoch  26  with loss  0.1278602033853531\n",
      "Epoch  27  with loss  0.07773388922214508\n",
      "Epoch  28  with loss  0.01716998778283596\n",
      "Epoch  29  with loss  0.037990860641002655\n",
      "Epoch  30  with loss  0.2775896191596985\n",
      "Epoch  31  with loss  0.5051459074020386\n",
      "Epoch  32  with loss  0.11987478286027908\n",
      "Epoch  33  with loss  0.21064753830432892\n",
      "Epoch  34  with loss  0.28152742981910706\n",
      "Epoch  35  with loss  0.066883385181427\n",
      "Epoch  36  with loss  0.11300786584615707\n",
      "Epoch  37  with loss  0.055910948663949966\n",
      "Epoch  38  with loss  0.16136643290519714\n",
      "Epoch  39  with loss  0.09120187908411026\n",
      "Epoch  40  with loss  0.00857221893966198\n",
      "Epoch  41  with loss  0.03813498839735985\n",
      "Epoch  42  with loss  0.15730005502700806\n",
      "Epoch  43  with loss  0.09904805570840836\n",
      "Epoch  44  with loss  0.7608951330184937\n",
      "Epoch  45  with loss  0.08682839572429657\n",
      "Epoch  46  with loss  0.3707576394081116\n",
      "Epoch  47  with loss  0.02549373358488083\n",
      "Epoch  48  with loss  0.10971812158823013\n",
      "Epoch  49  with loss  0.00595149677246809\n",
      "Epoch  50  with loss  0.2234039008617401\n",
      "Epoch  51  with loss  0.27134156227111816\n",
      "Epoch  52  with loss  0.014967674389481544\n",
      "Epoch  53  with loss  0.24076725542545319\n",
      "Epoch  54  with loss  0.5299654006958008\n",
      "Epoch  55  with loss  0.010099034756422043\n",
      "Epoch  56  with loss  0.028383266180753708\n",
      "Epoch  57  with loss  0.04792896285653114\n",
      "Epoch  58  with loss  0.11146490275859833\n",
      "Epoch  59  with loss  0.005335917230695486\n",
      "Epoch  60  with loss  0.27379360795021057\n",
      "Epoch  61  with loss  0.07416028529405594\n",
      "Epoch  62  with loss  0.03217290714383125\n",
      "Epoch  63  with loss  0.3389441668987274\n",
      "Epoch  64  with loss  0.017999742180109024\n",
      "Epoch  65  with loss  0.06289258599281311\n",
      "Epoch  66  with loss  0.021052896976470947\n",
      "Epoch  67  with loss  0.11241992563009262\n",
      "Epoch  68  with loss  0.07478277385234833\n",
      "Epoch  69  with loss  0.130916029214859\n",
      "Epoch  70  with loss  0.04789695143699646\n",
      "Epoch  71  with loss  0.15302340686321259\n",
      "Epoch  72  with loss  0.0005545244785025716\n",
      "Epoch  73  with loss  0.20620213449001312\n",
      "Epoch  74  with loss  0.05433391034603119\n",
      "Epoch  75  with loss  0.007542826700955629\n",
      "Epoch  76  with loss  0.17819170653820038\n",
      "Epoch  77  with loss  0.22784149646759033\n",
      "Epoch  78  with loss  0.20071928203105927\n",
      "Epoch  79  with loss  0.046112000942230225\n",
      "Epoch  80  with loss  0.04731855168938637\n",
      "Epoch  81  with loss  0.03663603216409683\n",
      "Epoch  82  with loss  0.0917748287320137\n",
      "Epoch  83  with loss  0.01702762395143509\n",
      "Epoch  84  with loss  0.06493762880563736\n",
      "Epoch  85  with loss  0.03308606147766113\n",
      "Epoch  86  with loss  0.09149764478206635\n",
      "Epoch  87  with loss  0.19999456405639648\n",
      "Epoch  88  with loss  0.07649600505828857\n",
      "Epoch  89  with loss  0.4194085896015167\n",
      "Epoch  90  with loss  0.026891037821769714\n",
      "Epoch  91  with loss  0.045697618275880814\n",
      "Epoch  92  with loss  0.15689943730831146\n",
      "Epoch  93  with loss  0.06821312755346298\n",
      "Epoch  94  with loss  0.1425827443599701\n",
      "Epoch  95  with loss  0.13587479293346405\n",
      "Epoch  96  with loss  0.07092329859733582\n",
      "Epoch  97  with loss  0.03785232827067375\n",
      "Epoch  98  with loss  0.006811343599110842\n",
      "Epoch  99  with loss  0.00386794307269156\n"
     ]
    }
   ],
   "source": [
    "num_epochs = 100\n",
    "loss_hist = [0] * num_epochs\n",
    "accuracy_hist = [0] * num_epochs\n",
    "\n",
    "for epoch in range(num_epochs):\n",
    "\n",
    "    for x_batch, y_batch in train_dl:\n",
    "        pred = model(x_batch.float())\n",
    "        loss = loss_fn(pred, y_batch.float())\n",
    "        loss.backward()\n",
    "        optimizer.step()\n",
    "        optimizer.zero_grad()\n",
    "\n",
    "    print('Epoch ', epoch, ' with loss ', loss.item())\n",
    "#       loss_hist[epoch] += loss.item()*y_batch.size(0)\n",
    "#        is_correct = (torch.argmax(pred, dim=1) == y_batch).float()\n",
    "#        accuracy_hist[epoch] += is_correct.sum()\n",
    "        \n",
    "#    loss_hist[epoch] /= len(train_dl.dataset)\n",
    "#    accuracy_hist[epoch] /= len(train_dl.dataset)"
   ]
  },
  {
   "cell_type": "code",
   "execution_count": null,
   "id": "18680a04-1e57-4e3c-95a3-616bc8b1fcb1",
   "metadata": {},
   "outputs": [],
   "source": []
  }
 ],
 "metadata": {
  "kernelspec": {
   "display_name": "Python 3",
   "language": "python",
   "name": "python3"
  },
  "language_info": {
   "codemirror_mode": {
    "name": "ipython",
    "version": 3
   },
   "file_extension": ".py",
   "mimetype": "text/x-python",
   "name": "python",
   "nbconvert_exporter": "python",
   "pygments_lexer": "ipython3",
   "version": "3.11.6"
  }
 },
 "nbformat": 4,
 "nbformat_minor": 5
}

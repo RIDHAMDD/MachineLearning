{
 "cells": [
  {
   "cell_type": "code",
   "execution_count": 347,
   "id": "44e0a312-3f40-42f4-82aa-d61c613a1a35",
   "metadata": {},
   "outputs": [],
   "source": [
    "import numpy as np\n",
    "import matplotlib.pyplot as plt\n",
    "import pandas as pd\n",
    "import scipy.stats as stats"
   ]
  },
  {
   "cell_type": "code",
   "execution_count": 348,
   "id": "569238f6-ceda-4382-9d74-1299e50b510d",
   "metadata": {},
   "outputs": [],
   "source": [
    "mydata = np.loadtxt(\"01-18train.csv\",delimiter=\",\")\n",
    "data = np.loadtxt(\"01-18test.csv\",delimiter=\",\")"
   ]
  },
  {
   "cell_type": "code",
   "execution_count": 349,
   "id": "df4d5c3b-2ceb-426b-83a3-ad253de8ca70",
   "metadata": {},
   "outputs": [],
   "source": [
    "mydata0 = mydata[mydata[:,1]==0]\n",
    "mydata1 = mydata[mydata[:,1]==1]\n",
    "data0 = mydata[mydata[:,1]==0]\n",
    "data1 = mydata[mydata[:,1]==1]"
   ]
  },
  {
   "cell_type": "code",
   "execution_count": 350,
   "id": "05c6907a-ceba-4685-9dc5-090dc8a51ff9",
   "metadata": {},
   "outputs": [
    {
     "data": {
      "image/png": "[encoded data removed]",
      "text/plain": [
       "<Figure size 432x288 with 1 Axes>"
      ]
     },
     "metadata": {
      "needs_background": "light"
     },
     "output_type": "display_data"
    }
   ],
   "source": [
    "plt.hist(mydata0[:,0], alpha=0.9)\n",
    "plt.hist(mydata1[:,0], alpha=0.6)\n",
    "\n",
    "plt.show()"
   ]
  },
  {
   "cell_type": "code",
   "execution_count": 351,
   "id": "d6d257c5-8a10-41cf-9729-b2168282740e",
   "metadata": {},
   "outputs": [
    {
     "data": {
      "text/plain": [
       "<matplotlib.collections.PathCollection at 0x7f582a607e50>"
      ]
     },
     "execution_count": 351,
     "metadata": {},
     "output_type": "execute_result"
    },
    {
     "data": {
      "image/png": "[encoded data removed]",
      "text/plain": [
       "<Figure size 432x288 with 1 Axes>"
      ]
     },
     "metadata": {
      "needs_background": "light"
     },
     "output_type": "display_data"
    }
   ],
   "source": [
    "plt.scatter(mydata[:,0],mydata[:,1])"
   ]
  },
  {
   "cell_type": "code",
   "execution_count": 352,
   "id": "1eb3f8e3-a962-49b4-bc25-0fd750cd47db",
   "metadata": {},
   "outputs": [],
   "source": [
    "class myBayes():\n",
    "    import scipy.stats as stats\n",
    "    \n",
    "    def __init__(self):\n",
    "        import scipy.stats as stats\n",
    "\n",
    "    def fit(self, X, y):\n",
    "        self.classes = np.unique(np.array(y)) # list of classes\n",
    "        if (self.classes.min() != 0) | (self.classes.max() != self.classes.shape[0] - 1):\n",
    "            return print(\"Classes must be np.array[0,...n]\")\n",
    "        self.py = np.bincount(y.astype('int8'))/y.size  # compute the priors P(y_k) for each class\n",
    "        self.dists = []\n",
    "        for i in np.unique(np.array(y)):\n",
    "            thisx = X[y == i]\n",
    "            thismean = np.mean(thisx, axis=0)\n",
    "            thiscov = np.cov(thisx.T)\n",
    "            self.dists.append(stats.multivariate_normal(thismean, thiscov))\n",
    "        return self\n",
    "\n",
    "    def predict(self,X):\n",
    "        myprobs = []\n",
    "        for i in range(self.classes.shape[0]):\n",
    "            myprobs.append(self.py[i] * np.array(self.dists[i].pdf(np.array(X))))\n",
    "        return  np.argmax(np.array(myprobs).T, axis=1)\n",
    "    "
   ]
  },
  {
   "cell_type": "code",
   "execution_count": 353,
   "id": "df0a20ea-3701-4de7-ad33-d9bf197b80df",
   "metadata": {},
   "outputs": [],
   "source": [
    "myownbayes = myBayes()"
   ]
  },
  {
   "cell_type": "code",
   "execution_count": 381,
   "id": "468878fd-a97e-4155-bc21-a172a8d4c0ba",
   "metadata": {},
   "outputs": [],
   "source": [
    "mydists = myownbayes.fit(mydata[:,0],mydata[:,1]) #doing the fit on the train data"
   ]
  },
  {
   "cell_type": "code",
   "execution_count": 380,
   "id": "eb1116e1-4147-49a7-845a-648bb2fcc71c",
   "metadata": {},
   "outputs": [
    {
     "data": {
      "text/plain": [
       "array([0, 1, 1, 0, 1, 1, 1, 1, 1, 0, 1, 1, 1, 1, 0, 0, 0, 0, 0, 0, 1, 1,\n",
       "       0, 1, 1, 1, 0, 1, 1, 1, 0, 1, 0, 0, 0, 0, 1, 1, 1, 1, 0, 1, 1, 0,\n",
       "       1, 1, 1, 1, 1, 1, 0, 1, 1, 1, 0, 0, 1, 0, 0, 1, 1, 1, 0, 1, 1, 1,\n",
       "       0, 1, 1, 0, 1, 1, 0, 1, 1, 1, 0, 1, 1, 0, 1, 0, 0, 1, 1, 1, 0, 1,\n",
       "       0, 0, 1, 0, 0, 0, 0, 1, 0, 1, 1, 1, 1, 0, 1, 1, 0, 1, 0, 0, 0, 0,\n",
       "       0, 0, 0, 0, 0, 0, 1, 1, 1, 1, 1, 1, 0, 0, 0, 0, 1, 1, 0, 0, 1, 0,\n",
       "       1, 1, 1, 1, 1, 1, 0, 1, 0, 0, 0, 1, 1, 0, 1, 0, 0, 0, 0, 0, 0, 1,\n",
       "       0, 0, 1, 0, 1, 1, 1, 1, 1, 1, 1, 0, 1, 1, 1, 1, 0, 1, 0, 0, 0])"
      ]
     },
     "execution_count": 380,
     "metadata": {},
     "output_type": "execute_result"
    }
   ],
   "source": [
    "mydists.predict(mydata[:,0]) #Predicting on train data"
   ]
  },
  {
   "cell_type": "code",
   "execution_count": 356,
   "id": "b75f2ef5-6bb9-481a-b27a-43224e86d617",
   "metadata": {},
   "outputs": [],
   "source": [
    "mydists = myownbayes.fit(data[:,0],data[:,1])"
   ]
  },
  {
   "cell_type": "code",
   "execution_count": 357,
   "id": "bfc68006-0f56-45d1-8ad5-d6b4db940719",
   "metadata": {},
   "outputs": [],
   "source": [
    "testpredict = mydists.predict(data[:,0])"
   ]
  },
  {
   "cell_type": "code",
   "execution_count": 379,
   "id": "97075790-06b6-4609-a417-d55fd2dbec46",
   "metadata": {},
   "outputs": [
    {
     "data": {
      "text/plain": [
       "array([1, 0, 0, 0, 1, 1, 0, 0, 1, 0, 1, 0, 1, 1, 0, 0, 0, 1, 0, 1, 0, 1,\n",
       "       0, 0, 1, 0, 0, 0, 1, 1, 1, 1, 1, 0, 1, 1, 1, 1, 1, 1, 1, 1, 1, 1,\n",
       "       0, 0, 1, 1, 0, 0, 0, 1, 1, 1, 1, 0, 1, 1, 0, 1, 0, 0, 0, 0, 1, 0,\n",
       "       0, 1, 1, 1])"
      ]
     },
     "execution_count": 379,
     "metadata": {},
     "output_type": "execute_result"
    }
   ],
   "source": [
    "testpredict #Predicting on Test data"
   ]
  },
  {
   "cell_type": "code",
   "execution_count": 359,
   "id": "d5f98e90-030f-4196-8cc2-bc80937b0852",
   "metadata": {},
   "outputs": [],
   "source": [
    "incorrect = (testpredict - data[:,1])"
   ]
  },
  {
   "cell_type": "code",
   "execution_count": 360,
   "id": "d56e100b-4a09-41da-a43b-9402ccee145f",
   "metadata": {},
   "outputs": [
    {
     "data": {
      "text/plain": [
       "92.85714285714286"
      ]
     },
     "execution_count": 360,
     "metadata": {},
     "output_type": "execute_result"
    }
   ],
   "source": [
    "100 - (np.count_nonzero(incorrect)*100)/incorrect.shape[0]"
   ]
  },
  {
   "cell_type": "code",
   "execution_count": 361,
   "id": "83dd5696-471e-4356-847a-ddec4a51128c",
   "metadata": {},
   "outputs": [],
   "source": [
    "class LogisticRegressionGD:\n",
    "    def __init__(self, eta=0.01, n_iter=50, random_state=1):\n",
    "        self.eta = eta\n",
    "        self.n_iter = n_iter\n",
    "        self.random_state = random_state\n",
    "\n",
    "    def fit(self, X, y):\n",
    "        rgen = np.random.RandomState(self.random_state)\n",
    "        self.w_ = rgen.normal(loc=0.0, scale=0.01, size=X.shape[1])\n",
    "        self.b_ = np.float_(0.)\n",
    "        self.losses_ = []\n",
    "\n",
    "        for i in range(self.n_iter):\n",
    "            net_input = self.net_input(X)\n",
    "            output = self.activation(net_input)\n",
    "            errors = (y - output)\n",
    "            self.w_ += self.eta * X.T.dot(errors) / X.shape[0]\n",
    "            self.b_ += self.eta * errors.mean()\n",
    "            loss = -y.dot(np.log(output)) - ((1 - y).dot(np.log(1 - output))) / X.shape[0]\n",
    "            self.losses_.append(loss)\n",
    "        return self\n",
    "\n",
    "    def net_input(self, X):\n",
    "        \"\"\"Calculate net input\"\"\"\n",
    "        return np.dot(X, self.w_) + self.b_\n",
    "\n",
    "    def activation(self, z):\n",
    "        \"\"\"Compute logistic sigmoid activation\"\"\"\n",
    "        return 1. / (1. + np.exp(-np.clip(z, -250, 250)))\n",
    "\n",
    "    def predict(self, X):\n",
    "        \"\"\"Return class label after unit step\"\"\"\n",
    "        return np.where(self.activation(self.net_input(X)) >= 0.5, 1, 0)\n",
    "\n",
    "    def findweights(self):\n",
    "        return (self.w_,self.b_)\n",
    "        "
   ]
  },
  {
   "cell_type": "code",
   "execution_count": 362,
   "id": "a361d8b4-543a-4031-ae07-94ad2ecd587b",
   "metadata": {},
   "outputs": [],
   "source": [
    "lrgd = LogisticRegressionGD(eta=0.3, n_iter=1000, random_state=1)\n",
    "fit = lrgd.fit(data[:,:1],\n",
    "         data[:,1:2].T[0])"
   ]
  },
  {
   "cell_type": "code",
   "execution_count": 363,
   "id": "78e2dc89-19d7-46a6-8df4-086ec2722e27",
   "metadata": {},
   "outputs": [
    {
     "data": {
      "text/plain": [
       "(array([3.09407741]), -0.5944725337482788)"
      ]
     },
     "execution_count": 363,
     "metadata": {},
     "output_type": "execute_result"
    }
   ],
   "source": [
    "fit.findweights()"
   ]
  },
  {
   "cell_type": "code",
   "execution_count": 364,
   "id": "086eef77-8d71-46e8-8d02-b6e6ea378b23",
   "metadata": {},
   "outputs": [],
   "source": [
    "predictvalues1 = fit.predict(data[:,:1])"
   ]
  },
  {
   "cell_type": "code",
   "execution_count": 365,
   "id": "f2cde864-8638-4bc3-b00c-3ccc1620a9bc",
   "metadata": {},
   "outputs": [],
   "source": [
    "incorrect1 = predictvalues1 - data[:,1:2].T[0]"
   ]
  },
  {
   "cell_type": "code",
   "execution_count": 366,
   "id": "60e132a6-4056-4ead-a0b3-122c32d6ef48",
   "metadata": {},
   "outputs": [
    {
     "data": {
      "text/plain": [
       "7.142857142857143"
      ]
     },
     "execution_count": 366,
     "metadata": {},
     "output_type": "execute_result"
    }
   ],
   "source": [
    "(np.count_nonzero(incorrect1)*100)/incorrect1.shape[0] "
   ]
  },
  {
   "cell_type": "code",
   "execution_count": 367,
   "id": "4d9724b3-9bab-4428-b684-fc97d5e2ac0e",
   "metadata": {},
   "outputs": [
    {
     "data": {
      "text/plain": [
       "5"
      ]
     },
     "execution_count": 367,
     "metadata": {},
     "output_type": "execute_result"
    }
   ],
   "source": [
    "np.count_nonzero(incorrect1)"
   ]
  },
  {
   "cell_type": "code",
   "execution_count": 368,
   "id": "395bcc74-536f-47c1-9d62-dc71eefca0fc",
   "metadata": {},
   "outputs": [],
   "source": [
    "import numpy as np"
   ]
  },
  {
   "cell_type": "code",
   "execution_count": 369,
   "id": "f2ae4b88-af9c-4016-a261-911217ccd31d",
   "metadata": {},
   "outputs": [
    {
     "name": "stdout",
     "output_type": "stream",
     "text": [
      "[3.09407741]\n"
     ]
    }
   ],
   "source": [
    "arr = np.linspace(-3.8,4.8,50)\n",
    "w,b = fit.findweights()\n",
    "print(w)\n",
    "z = (w * arr) + b\n",
    "p = 1/(1 + np.exp(-z))"
   ]
  },
  {
   "cell_type": "code",
   "execution_count": 370,
   "id": "40df4c5c-41b3-48e8-ad95-aeeb0745f734",
   "metadata": {},
   "outputs": [
    {
     "data": {
      "text/plain": [
       "array([4.32122759e-06, 7.43782576e-06, 1.28021786e-05, 2.20353568e-05,\n",
       "       3.79274284e-05, 6.52802381e-05, 1.12357352e-04, 1.93377756e-04,\n",
       "       3.32802180e-04, 5.72693356e-04, 9.85332960e-04, 1.69478534e-03,\n",
       "       2.91356278e-03, 5.00441066e-03, 8.58278931e-03, 1.46821135e-02,\n",
       "       2.50065692e-02, 4.22796471e-02, 7.06197670e-02, 1.15662153e-01,\n",
       "       1.83753150e-01, 2.79270835e-01, 4.00102217e-01, 5.34446083e-01,\n",
       "       6.63971912e-01, 7.72782030e-01, 8.54100322e-01, 9.09715948e-01,\n",
       "       9.45484567e-01, 9.67587317e-01, 9.80909662e-01, 9.88819495e-01,\n",
       "       9.93473797e-01, 9.96198022e-01, 9.97787609e-01, 9.98713457e-01,\n",
       "       9.99252143e-01, 9.99565375e-01, 9.99747447e-01, 9.99853256e-01,\n",
       "       9.99914740e-01, 9.99950464e-01, 9.99971220e-01, 9.99983279e-01,\n",
       "       9.99990286e-01, 9.99994356e-01, 9.99996721e-01, 9.99998095e-01,\n",
       "       9.99998893e-01, 9.99999357e-01])"
      ]
     },
     "execution_count": 370,
     "metadata": {},
     "output_type": "execute_result"
    }
   ],
   "source": [
    "p"
   ]
  },
  {
   "cell_type": "code",
   "execution_count": 371,
   "id": "28cc1c79-5770-46ef-b242-1e73a32ac331",
   "metadata": {},
   "outputs": [
    {
     "data": {
      "text/plain": [
       "[<matplotlib.lines.Line2D at 0x7f582e365310>]"
      ]
     },
     "execution_count": 371,
     "metadata": {},
     "output_type": "execute_result"
    },
    {
     "data": {
      "image/png": "[encoded data removed]",
      "text/plain": [
       "<Figure size 432x288 with 1 Axes>"
      ]
     },
     "metadata": {
      "needs_background": "light"
     },
     "output_type": "display_data"
    }
   ],
   "source": [
    "plt.scatter(data[:,:1],data[:,1:2])\n",
    "plt.plot(arr,p)"
   ]
  },
  {
   "cell_type": "markdown",
   "id": "3e6efcde-5ee5-48ae-8c7e-7bab7756873d",
   "metadata": {},
   "source": [
    "# Question 3"
   ]
  },
  {
   "cell_type": "code",
   "execution_count": 372,
   "id": "a9692dc8-751e-403a-af69-e39a440365c8",
   "metadata": {},
   "outputs": [],
   "source": [
    "from numpy import linalg as LA"
   ]
  },
  {
   "cell_type": "code",
   "execution_count": 373,
   "id": "1bbee194-4515-4841-b1fa-40b8ad53639a",
   "metadata": {},
   "outputs": [],
   "source": [
    "knn = np.loadtxt(\"01-19data.csv\",delimiter=\",\")"
   ]
  },
  {
   "cell_type": "code",
   "execution_count": 374,
   "id": "3d6169d7-de41-46ea-8560-134779c436a9",
   "metadata": {},
   "outputs": [
    {
     "data": {
      "text/plain": [
       "<matplotlib.collections.PathCollection at 0x7f582a358a50>"
      ]
     },
     "execution_count": 374,
     "metadata": {},
     "output_type": "execute_result"
    },
    {
     "data": {
      "image/png": "[encoded data removed]",
      "text/plain": [
       "<Figure size 432x288 with 1 Axes>"
      ]
     },
     "metadata": {
      "needs_background": "light"
     },
     "output_type": "display_data"
    }
   ],
   "source": [
    "plt.scatter(knn[:,0], knn[:,1], c = knn[:,2])"
   ]
  },
  {
   "cell_type": "code",
   "execution_count": 375,
   "id": "071207a9-420a-48be-8868-3421fcdf7719",
   "metadata": {},
   "outputs": [],
   "source": [
    "mypt = np.array([0,1])"
   ]
  },
  {
   "cell_type": "code",
   "execution_count": 376,
   "id": "39ee8d0a-754f-489b-b5f6-bf3a197b11a5",
   "metadata": {},
   "outputs": [],
   "source": [
    "x = knn[:,:2]\n",
    "y = knn[:,2]"
   ]
  },
  {
   "cell_type": "code",
   "execution_count": 377,
   "id": "75dac6e6-5b6e-4597-8033-a3ae6a8fcf2a",
   "metadata": {},
   "outputs": [],
   "source": [
    "def myKNN(X, y, pt, k):\n",
    "    plt.scatter(knn[:,0], knn[:,1], c = knn[:,2])\n",
    "    plt.plot(0,1,marker=\"o\", markersize=3, color=\"red\")\n",
    "    plt.show()\n",
    "    \n",
    "    temp = np.argpartition(LA.norm(mypt - x, axis=1),k)\n",
    "    ar2 = knn[temp[:k],2]\n",
    "    max1 = max(set(ar2.tolist()), key = ar2.tolist().count)\n",
    "    print(\"The classifier with highest frequency is:\")\n",
    "    return max1"
   ]
  },
  {
   "cell_type": "code",
   "execution_count": 378,
   "id": "bcff2dce-8e5c-4d4f-b210-0c1cd3500327",
   "metadata": {},
   "outputs": [
    {
     "data": {
      "image/png": "[encoded data removed]",
      "text/plain": [
       "<Figure size 432x288 with 1 Axes>"
      ]
     },
     "metadata": {
      "needs_background": "light"
     },
     "output_type": "display_data"
    },
    {
     "name": "stdout",
     "output_type": "stream",
     "text": [
      "The classifier with highest frequency is:\n"
     ]
    },
    {
     "data": {
      "text/plain": [
       "1.0"
      ]
     },
     "execution_count": 378,
     "metadata": {},
     "output_type": "execute_result"
    }
   ],
   "source": [
    "myKNN(x,y,mypt,5)"
   ]
  },
  {
   "cell_type": "code",
   "execution_count": null,
   "id": "7c508cbe-30af-4207-906e-293a4c981586",
   "metadata": {},
   "outputs": [],
   "source": []
  }
 ],
 "metadata": {
  "kernelspec": {
   "display_name": "Python 3",
   "language": "python",
   "name": "python3"
  },
  "language_info": {
   "codemirror_mode": {
    "name": "ipython",
    "version": 3
   },
   "file_extension": ".py",
   "mimetype": "text/x-python",
   "name": "python",
   "nbconvert_exporter": "python",
   "pygments_lexer": "ipython3",
   "version": "3.11.6"
  }
 },
 "nbformat": 4,
 "nbformat_minor": 5
}
